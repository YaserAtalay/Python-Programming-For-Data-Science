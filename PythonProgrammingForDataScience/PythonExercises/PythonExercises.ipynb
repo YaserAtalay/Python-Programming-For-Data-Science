{
 "cells": [
  {
   "cell_type": "markdown",
   "id": "b415598c-8808-4e17-a296-d35891101606",
   "metadata": {},
   "source": [
    "# Python Alıştırmalari"
   ]
  },
  {
   "cell_type": "markdown",
   "id": "ea9d8e16-bca6-40f7-b1ff-e789e59ee2d9",
   "metadata": {
    "tags": []
   },
   "source": [
    "### Görev 1: Verilen değerlerin veri yapılarını inceleyiniz"
   ]
  },
  {
   "cell_type": "code",
   "execution_count": 1,
   "id": "8e26468c-84f5-47d1-b3ea-23407cbbf6ea",
   "metadata": {},
   "outputs": [],
   "source": [
    "#Değerler\n",
    "\n",
    "x = 8\n",
    "y = 3.2\n",
    "z = 8j+18\n",
    "a = \"Hello World\"\n",
    "b = True\n",
    "c = 23<22\n",
    "l = [1,2,3,4]\n",
    "d = {\"Name\" : \"Jake\",\n",
    "    \"Age\" : 27,\n",
    "    \"Adress\" : \"Downtown\"}\n",
    "t = (\"Machine Learning\", \"Data Science\")\n",
    "s = {\"Python\", \"Machine Learning\", \"Data Science\"}"
   ]
  },
  {
   "cell_type": "code",
   "execution_count": 5,
   "id": "a88c8257-c770-4209-a19d-0b1dffdf1102",
   "metadata": {},
   "outputs": [
    {
     "name": "stdout",
     "output_type": "stream",
     "text": [
      "x = <class 'int'> y = <class 'float'> z = <class 'complex'> a = <class 'str'> b = <class 'bool'> c = <class 'bool'> l = <class 'list'> d = <class 'dict'> t = <class 'tuple'> s = <class 'set'>\n"
     ]
    }
   ],
   "source": [
    "print(f\"x = {type(x)} y = {type(y)} z = {type(z)} a = {type(a)} b = {type(b)} c = {type(c)} l = {type(l)} d = {type(d)} t = {type(t)} s = {type(s)}\")"
   ]
  },
  {
   "cell_type": "markdown",
   "id": "abbf09e8-faf9-4c9b-9fd5-51e19219d870",
   "metadata": {},
   "source": [
    "### Görev 2: Verilen string ifadenin(textin) tüm harflerini büyük harfe çeviriniz. Virgül ve nokta yerine space koyunuz, kelime kelime ayırınız"
   ]
  },
  {
   "cell_type": "code",
   "execution_count": 6,
   "id": "8a295c50-1384-4a45-a347-ed42318c5430",
   "metadata": {},
   "outputs": [],
   "source": [
    "text = \"The goal is to turn data into information, and information into insight.\""
   ]
  },
  {
   "cell_type": "code",
   "execution_count": 10,
   "id": "cfd34180-e7fd-4b38-8490-788b7477fce0",
   "metadata": {},
   "outputs": [
    {
     "data": {
      "text/plain": [
       "['THE',\n",
       " 'GOAL',\n",
       " 'IS',\n",
       " 'TO',\n",
       " 'TURN',\n",
       " 'DATA',\n",
       " 'INTO',\n",
       " 'INFORMATION',\n",
       " 'AND',\n",
       " 'INFORMATION',\n",
       " 'INTO',\n",
       " 'INSIGHT']"
      ]
     },
     "execution_count": 10,
     "metadata": {},
     "output_type": "execute_result"
    }
   ],
   "source": [
    "text.upper().replace(\",\",\" \").replace(\".\",\" \").split()"
   ]
  },
  {
   "cell_type": "markdown",
   "id": "9e237f60-a1b0-4bde-92ec-f40aa997f2a5",
   "metadata": {},
   "source": [
    "### Görev 3: Verilen listeye aşağıdaki adımları uygulayınız."
   ]
  },
  {
   "cell_type": "code",
   "execution_count": 50,
   "id": "80a7542c-f231-4c52-bf5d-225060e0c4b6",
   "metadata": {},
   "outputs": [],
   "source": [
    "lst = [\"D\",\"A\",\"T\",\"A\",\"S\",\"C\",\"I\",\"E\",\"N\",\"C\",\"E\"]"
   ]
  },
  {
   "cell_type": "markdown",
   "id": "ee461e98-e951-4c93-9711-1652273563f7",
   "metadata": {},
   "source": [
    "##### Adım 1: Verilen listenin eleman sayısına bakınız."
   ]
  },
  {
   "cell_type": "code",
   "execution_count": 51,
   "id": "81fee2d7-ca95-4a37-928b-d37f1e9acffb",
   "metadata": {},
   "outputs": [
    {
     "data": {
      "text/plain": [
       "11"
      ]
     },
     "execution_count": 51,
     "metadata": {},
     "output_type": "execute_result"
    }
   ],
   "source": [
    "len(lst)"
   ]
  },
  {
   "cell_type": "markdown",
   "id": "d523da2c-b697-4aa7-9ed1-bf8a106ece12",
   "metadata": {},
   "source": [
    "##### Adım 2: Sıfırıncı ve onuncu indeksteki elemanları çağırınız."
   ]
  },
  {
   "cell_type": "code",
   "execution_count": 52,
   "id": "ead9e142-bc32-4578-8e65-67cb2b8309b7",
   "metadata": {},
   "outputs": [
    {
     "data": {
      "text/plain": [
       "'D'"
      ]
     },
     "execution_count": 52,
     "metadata": {},
     "output_type": "execute_result"
    }
   ],
   "source": [
    "lst[0]"
   ]
  },
  {
   "cell_type": "code",
   "execution_count": 53,
   "id": "b37efc3c-06c3-4d9f-bf34-2920891d5c28",
   "metadata": {},
   "outputs": [
    {
     "data": {
      "text/plain": [
       "'E'"
      ]
     },
     "execution_count": 53,
     "metadata": {},
     "output_type": "execute_result"
    }
   ],
   "source": [
    "lst[10]"
   ]
  },
  {
   "cell_type": "markdown",
   "id": "18f66248-95f4-43fc-9aae-f7692ae78c9c",
   "metadata": {},
   "source": [
    "##### Adım 3: Verilen liste üzerinden [\"D\", \"A\", \"T\", \"A\"] listesi oluşturunuz."
   ]
  },
  {
   "cell_type": "code",
   "execution_count": 54,
   "id": "2fdcb080-7b08-4220-9452-9de8e2e2e7ab",
   "metadata": {},
   "outputs": [
    {
     "data": {
      "text/plain": [
       "['D', 'A', 'T', 'A']"
      ]
     },
     "execution_count": 54,
     "metadata": {},
     "output_type": "execute_result"
    }
   ],
   "source": [
    "data_lst = lst[0:4]\n",
    "data_lst"
   ]
  },
  {
   "cell_type": "markdown",
   "id": "8ea9bb9d-bef0-40c9-bc01-e40e23fd7bac",
   "metadata": {},
   "source": [
    "##### Adım 4: Sekizinci indeksteki elemanı siliniz."
   ]
  },
  {
   "cell_type": "code",
   "execution_count": 55,
   "id": "b955f6f8-93f7-41a6-919b-4fc09503ed2d",
   "metadata": {},
   "outputs": [
    {
     "data": {
      "text/plain": [
       "['D', 'A', 'T', 'A', 'S', 'C', 'I', 'E', 'C', 'E']"
      ]
     },
     "execution_count": 55,
     "metadata": {},
     "output_type": "execute_result"
    }
   ],
   "source": [
    "lst.pop(8)\n",
    "lst"
   ]
  },
  {
   "cell_type": "markdown",
   "id": "cb0c4b8d-55ac-4d79-8b4a-64bdaf9723fe",
   "metadata": {},
   "source": [
    "##### Adım 5: Yeni bir eleman ekleyiniz."
   ]
  },
  {
   "cell_type": "code",
   "execution_count": 56,
   "id": "55ef672f-00ae-4044-aaeb-f920d7f6cc45",
   "metadata": {},
   "outputs": [
    {
     "data": {
      "text/plain": [
       "['D', 'A', 'T', 'A', 'S', 'C', 'I', 'E', 'C', 'E', 'Y']"
      ]
     },
     "execution_count": 56,
     "metadata": {},
     "output_type": "execute_result"
    }
   ],
   "source": [
    "lst.append(\"Y\")\n",
    "lst"
   ]
  },
  {
   "cell_type": "markdown",
   "id": "2445735a-39ea-4f24-b586-c514b7e963cd",
   "metadata": {},
   "source": [
    "##### Adım 6: Sekizinci indekse \"N\" elemanını tekrar ekleyiniz."
   ]
  },
  {
   "cell_type": "code",
   "execution_count": 57,
   "id": "b05c2731-3d2f-4a4c-983c-0e1455e0bb65",
   "metadata": {},
   "outputs": [
    {
     "data": {
      "text/plain": [
       "['D', 'A', 'T', 'A', 'S', 'C', 'I', 'E', 'N', 'C', 'E', 'Y']"
      ]
     },
     "execution_count": 57,
     "metadata": {},
     "output_type": "execute_result"
    }
   ],
   "source": [
    "lst.insert(8,\"N\")\n",
    "lst"
   ]
  },
  {
   "cell_type": "markdown",
   "id": "dbcf43e3-2252-4d03-bf08-3ff3106b006a",
   "metadata": {},
   "source": [
    "### Görev 4: Verilen sözlük yapısına aşağıdaki adımları uygulayınız."
   ]
  },
  {
   "cell_type": "code",
   "execution_count": 58,
   "id": "84bd37a3-af31-4fef-b3bb-9b988a1afeb8",
   "metadata": {},
   "outputs": [],
   "source": [
    "dict = {\"Christian\" : [\"America\", 18],\n",
    "       \"Daisy\" : [\"England\", 12],\n",
    "       \"Antonio\" : [\"Spain\", 22],\n",
    "       \"Dante\" : [\"Italy\", 25]}"
   ]
  },
  {
   "cell_type": "markdown",
   "id": "32a26044-a2df-4a4b-b794-10c97d3c2a6f",
   "metadata": {},
   "source": [
    "##### Adım 1: Key değerlerine erişiniz."
   ]
  },
  {
   "cell_type": "code",
   "execution_count": 61,
   "id": "0e609698-c7ae-48dc-8bca-af2ea9b8aaaf",
   "metadata": {},
   "outputs": [
    {
     "data": {
      "text/plain": [
       "dict_keys(['Christian', 'Daisy', 'Antonio', 'Dante'])"
      ]
     },
     "execution_count": 61,
     "metadata": {},
     "output_type": "execute_result"
    }
   ],
   "source": [
    "dict.keys()"
   ]
  },
  {
   "cell_type": "markdown",
   "id": "962e2fde-112c-4b5e-8a5a-fc9282a4b23f",
   "metadata": {},
   "source": [
    "##### Adım 2: Value'lara erişiniz."
   ]
  },
  {
   "cell_type": "code",
   "execution_count": 64,
   "id": "31d52077-3064-460f-9a78-fb58ac3945c5",
   "metadata": {},
   "outputs": [
    {
     "data": {
      "text/plain": [
       "dict_values([['America', 18], ['England', 12], ['Spain', 22], ['Italy', 25]])"
      ]
     },
     "execution_count": 64,
     "metadata": {},
     "output_type": "execute_result"
    }
   ],
   "source": [
    "dict.values()"
   ]
  },
  {
   "cell_type": "markdown",
   "id": "ea7b6121-95f0-4859-9aca-5f43cee6e35f",
   "metadata": {},
   "source": [
    "##### Adım 3: Daisy key'ine ait 12 değerini 13 olarak güncelleyiniz."
   ]
  },
  {
   "cell_type": "code",
   "execution_count": 65,
   "id": "ee4e7876-d314-44c1-a4b9-aab53de57976",
   "metadata": {},
   "outputs": [
    {
     "data": {
      "text/plain": [
       "{'Christian': ['America', 18],\n",
       " 'Daisy': ['England', 13],\n",
       " 'Antonio': ['Spain', 22],\n",
       " 'Dante': ['Italy', 25]}"
      ]
     },
     "execution_count": 65,
     "metadata": {},
     "output_type": "execute_result"
    }
   ],
   "source": [
    "dict[\"Daisy\"][1] = 13\n",
    "dict"
   ]
  },
  {
   "cell_type": "markdown",
   "id": "b9146cc5-2254-471d-9007-01843c50e7d3",
   "metadata": {},
   "source": [
    "##### Adım 4: Key değeri Ahmet value değeri [Turkey,24] olan yeni bir değer ekleyiniz."
   ]
  },
  {
   "cell_type": "code",
   "execution_count": 66,
   "id": "6e3c1700-d99b-456e-9e5a-ca14e1097817",
   "metadata": {},
   "outputs": [
    {
     "data": {
      "text/plain": [
       "{'Christian': ['America', 18],\n",
       " 'Daisy': ['England', 13],\n",
       " 'Antonio': ['Spain', 22],\n",
       " 'Dante': ['Italy', 25],\n",
       " 'Ahmet': ['Turkey', 24]}"
      ]
     },
     "execution_count": 66,
     "metadata": {},
     "output_type": "execute_result"
    }
   ],
   "source": [
    "dict[\"Ahmet\"] = [\"Turkey\", 24]\n",
    "dict"
   ]
  },
  {
   "cell_type": "markdown",
   "id": "9076039c-3742-4b3c-9d09-bfa822be99f0",
   "metadata": {
    "tags": []
   },
   "source": [
    "##### Adım 5: Antonio'yu dictionary'den siliniz."
   ]
  },
  {
   "cell_type": "code",
   "execution_count": 69,
   "id": "3758b716-8430-4060-9a57-25d5c2959258",
   "metadata": {},
   "outputs": [
    {
     "data": {
      "text/plain": [
       "{'Christian': ['America', 18],\n",
       " 'Daisy': ['England', 13],\n",
       " 'Dante': ['Italy', 25],\n",
       " 'Ahmet': ['Turkey', 24]}"
      ]
     },
     "execution_count": 69,
     "metadata": {},
     "output_type": "execute_result"
    }
   ],
   "source": [
    "dict.pop(\"Antonio\")\n",
    "dict"
   ]
  },
  {
   "cell_type": "markdown",
   "id": "c89e620c-8a24-46ac-aa9d-ff8881ef8801",
   "metadata": {},
   "source": [
    "### Görev 5: Argüman olarak bir liste alan, listenin içerisindeki tek ve çift sayıları ayrı listelere atayan ve bu listelerireturn eden fonksiyon yazınız."
   ]
  },
  {
   "cell_type": "code",
   "execution_count": 74,
   "id": "3a29be6d-ae43-4785-9094-13ab0257886b",
   "metadata": {},
   "outputs": [
    {
     "data": {
      "text/plain": [
       "([0, 2, 4, 6, 8, 12, 18, 22, 36, 38], [5, 15, 19, 33, 35, 39])"
      ]
     },
     "execution_count": 74,
     "metadata": {},
     "output_type": "execute_result"
    }
   ],
   "source": [
    "l = [0,2,4,5,6,8,12,15,18,19,22,33,35,36,38,39]\n",
    "\n",
    "def even_odd(liste):\n",
    "    even_list = []\n",
    "    odd_list = []\n",
    "    for i in l:\n",
    "        if i%2 ==0:\n",
    "            even_list.append(i)\n",
    "        else:\n",
    "            odd_list.append(i)\n",
    "    return even_list,odd_list\n",
    "even_odd(l)       "
   ]
  },
  {
   "cell_type": "markdown",
   "id": "5de69870-23a1-457d-b1a4-b58255a09e4d",
   "metadata": {},
   "source": [
    "### Görev 6: Aşağıda verilen listede mühendislik ve tıp fakülterinde dereceye giren öğrencilerin isimleri bulunmaktadır. Sırasıyla ilk üç öğrenci mühendislik fakültesinin başarı sırasını temsil ederken son üç öğrenci de tıp fakültesi öğrenci sırasına aittir. Enumarate kullanarak öğrenci derecelerini fakülte özelinde yazdırınız."
   ]
  },
  {
   "cell_type": "code",
   "execution_count": 73,
   "id": "53450754-4d16-4e40-934e-ea124b469010",
   "metadata": {},
   "outputs": [],
   "source": [
    "ogrenciler = [\"Ali\",\"Veli\",\"Ayşe\",\"Talat\",\"Zeynep\",\"Ece\"]"
   ]
  },
  {
   "cell_type": "code",
   "execution_count": 78,
   "id": "68b530c1-4358-4cd4-87f2-52dcc1c3d269",
   "metadata": {},
   "outputs": [
    {
     "name": "stdout",
     "output_type": "stream",
     "text": [
      "Mühendislik fakültesi 1 .Öğrenci: Ali\n",
      "Mühendislik fakültesi 2 .Öğrenci: Veli\n",
      "Mühendislik fakültesi 3 .Öğrenci: Ayşe\n",
      "Tıp fakültesi 1 .Öğrenci: Talat\n",
      "Tıp fakültesi 2 .Öğrenci: Zeynep\n",
      "Tıp fakültesi 3 .Öğrenci: Ece\n"
     ]
    }
   ],
   "source": [
    "for i,x in enumerate(ogrenciler):\n",
    "    if i<3:\n",
    "        i+=1\n",
    "        print(f\"Mühendislik fakültesi\", i,\".Öğrenci:\",x)\n",
    "    else:\n",
    "        i-=2\n",
    "        print(f\"Tıp fakültesi\",i,\".Öğrenci:\",x)"
   ]
  },
  {
   "cell_type": "markdown",
   "id": "c6a4118d-3901-4fdf-b7cb-917154153696",
   "metadata": {},
   "source": [
    "### Görev 7: Aşağıda 3 adet liste verilmiştir. Listelerde sırası ile bir dersin kodu, kredisi ve kontenjan bilgileri yer almaktadır. Zip kullanarak ders bilgilerini bastırınız."
   ]
  },
  {
   "cell_type": "code",
   "execution_count": 79,
   "id": "8b80cee2-d7d9-41b7-86f3-e02e7370924e",
   "metadata": {},
   "outputs": [],
   "source": [
    "ders_kodu = [\"CMP1005\",\"PSY1001\",\"HUK1005\",\"SEN2204\"]\n",
    "kredi = [3,4,2,4]\n",
    "kontenjan = [30,75,150,25]"
   ]
  },
  {
   "cell_type": "code",
   "execution_count": 81,
   "id": "04767e16-c0f3-43f0-823e-aaccf59fab3a",
   "metadata": {},
   "outputs": [
    {
     "data": {
      "text/plain": [
       "[('CMP1005', 3, 30),\n",
       " ('PSY1001', 4, 75),\n",
       " ('HUK1005', 2, 150),\n",
       " ('SEN2204', 4, 25)]"
      ]
     },
     "execution_count": 81,
     "metadata": {},
     "output_type": "execute_result"
    }
   ],
   "source": [
    "list(zip(ders_kodu,kredi,kontenjan))"
   ]
  },
  {
   "cell_type": "code",
   "execution_count": 82,
   "id": "452de6e3-23ce-4261-9921-20e72ecabac5",
   "metadata": {},
   "outputs": [
    {
     "name": "stdout",
     "output_type": "stream",
     "text": [
      "Kredisi 3 olan CMP1005 kodlu dersin kontenjanı 30 kişidir.\n",
      "Kredisi 4 olan PSY1001 kodlu dersin kontenjanı 75 kişidir.\n",
      "Kredisi 2 olan HUK1005 kodlu dersin kontenjanı 150 kişidir.\n",
      "Kredisi 4 olan SEN2204 kodlu dersin kontenjanı 25 kişidir.\n"
     ]
    }
   ],
   "source": [
    "for ders,kredi,kont in zip(ders_kodu,kredi,kontenjan):\n",
    "    print(f\"Kredisi {kredi} olan {ders} kodlu dersin kontenjanı {kont} kişidir.\")"
   ]
  },
  {
   "cell_type": "markdown",
   "id": "3450609a-73de-45df-b117-47f565ff6d0c",
   "metadata": {},
   "source": [
    "### Görev 8: Aşağıda 2 adet set verilmiştir. Sizden istenilen eğer 1. küme 2. kümeyi kapsiyor ise ortak elemanlarını eğer kapsamıyor ise 2. kümenin 1. kümeden farkını yazdıracak fonksiyonu tanımlamanız beklenmektedir."
   ]
  },
  {
   "cell_type": "code",
   "execution_count": 83,
   "id": "5ebc4811-4f1b-42bd-91b1-d33e43d9320f",
   "metadata": {},
   "outputs": [],
   "source": [
    "kume1 = set([\"data\",\"python\"])\n",
    "kume2 = set([\"data\",\"function\",\"qcut\",\"lambda\",\"python\",\"miuul\"])"
   ]
  },
  {
   "cell_type": "code",
   "execution_count": 86,
   "id": "ae74c25d-92b4-489e-8bee-c1528a1ab0d8",
   "metadata": {},
   "outputs": [
    {
     "name": "stdout",
     "output_type": "stream",
     "text": [
      "{'function', 'lambda', 'qcut', 'miuul'}\n"
     ]
    }
   ],
   "source": [
    "def kume(set1,set2):\n",
    "    if set1.issuperset(set2):\n",
    "        print(set1.intersection(set2))\n",
    "    else:\n",
    "        print(set2.difference(set1))\n",
    "\n",
    "kume(kume1,kume2)"
   ]
  },
  {
   "cell_type": "code",
   "execution_count": 87,
   "id": "82b27ac6-d697-4bab-b8d6-2de772f7a0cc",
   "metadata": {},
   "outputs": [
    {
     "name": "stdout",
     "output_type": "stream",
     "text": [
      "{'data', 'python'}\n"
     ]
    }
   ],
   "source": [
    "kume(kume2,kume1)"
   ]
  },
  {
   "cell_type": "code",
   "execution_count": null,
   "id": "dbd9af43-4629-468d-9a76-b9e825269085",
   "metadata": {},
   "outputs": [],
   "source": []
  }
 ],
 "metadata": {
  "kernelspec": {
   "display_name": "Python 3 (ipykernel)",
   "language": "python",
   "name": "python3"
  },
  "language_info": {
   "codemirror_mode": {
    "name": "ipython",
    "version": 3
   },
   "file_extension": ".py",
   "mimetype": "text/x-python",
   "name": "python",
   "nbconvert_exporter": "python",
   "pygments_lexer": "ipython3",
   "version": "3.9.13"
  }
 },
 "nbformat": 4,
 "nbformat_minor": 5
}

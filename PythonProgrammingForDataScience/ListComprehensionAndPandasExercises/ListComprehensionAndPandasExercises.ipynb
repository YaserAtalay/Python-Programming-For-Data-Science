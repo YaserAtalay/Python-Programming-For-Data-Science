{
 "cells": [
  {
   "cell_type": "markdown",
   "id": "b28e19a4-7f11-4573-9b59-6c783110fe1d",
   "metadata": {},
   "source": [
    "# List Comprehension ve Pandas Alıştırmaları"
   ]
  },
  {
   "cell_type": "code",
   "execution_count": 2,
   "id": "c95f2fe9-5303-42e9-a99b-43fbffedad02",
   "metadata": {},
   "outputs": [],
   "source": [
    "import seaborn as sns\n",
    "df = sns.load_dataset(\"car_crashes\")"
   ]
  },
  {
   "cell_type": "markdown",
   "id": "e376d086-4481-48d4-bd3d-f69ad5ab8585",
   "metadata": {
    "tags": []
   },
   "source": [
    "### Görev 1: List Comprehension yapısı kullanarak car_crashes verisindeki numeric değişkenlerin isimlerini büyük harfe çeviriniz ve başına NUM ekleyiniz."
   ]
  },
  {
   "cell_type": "code",
   "execution_count": 3,
   "id": "4ed654ba-8873-4a4b-9ce1-4859000bdcfc",
   "metadata": {},
   "outputs": [
    {
     "data": {
      "text/plain": [
       "Index(['total', 'speeding', 'alcohol', 'not_distracted', 'no_previous',\n",
       "       'ins_premium', 'ins_losses', 'abbrev'],\n",
       "      dtype='object')"
      ]
     },
     "execution_count": 3,
     "metadata": {},
     "output_type": "execute_result"
    }
   ],
   "source": [
    "df.columns"
   ]
  },
  {
   "cell_type": "code",
   "execution_count": 11,
   "id": "e268db90-bbda-414b-83e6-8770100a709f",
   "metadata": {},
   "outputs": [
    {
     "data": {
      "text/plain": [
       "['NUM_TOTAL',\n",
       " 'NUM_SPEEDING',\n",
       " 'NUM_ALCOHOL',\n",
       " 'NUM_NOT_DISTRACTED',\n",
       " 'NUM_NO_PREVIOUS',\n",
       " 'NUM_INS_PREMIUM',\n",
       " 'NUM_INS_LOSSES',\n",
       " 'ABBREV']"
      ]
     },
     "execution_count": 11,
     "metadata": {},
     "output_type": "execute_result"
    }
   ],
   "source": [
    "[\"NUM_\" + col.upper() if df[col].dtype != \"O\" else col.upper() for col in df.columns]"
   ]
  },
  {
   "cell_type": "markdown",
   "id": "b480d880-e694-4715-883f-169f7102b677",
   "metadata": {},
   "source": [
    "### Görev 2: List Comprehension yapısı kullanarak car_crashes verisinde isminde \"no\" barındırmayan değişkenlerin isimlerinin sonuna \"FLAG\" yazınız."
   ]
  },
  {
   "cell_type": "code",
   "execution_count": 17,
   "id": "e880ec8b-b23a-4d9c-8e97-517a0081db75",
   "metadata": {},
   "outputs": [
    {
     "data": {
      "text/plain": [
       "['TOTAL_FLAG',\n",
       " 'SPEEDING_FLAG',\n",
       " 'ALCOHOL_FLAG',\n",
       " 'NOT_DISTRACTED',\n",
       " 'NO_PREVIOUS',\n",
       " 'INS_PREMIUM_FLAG',\n",
       " 'INS_LOSSES_FLAG',\n",
       " 'ABBREV_FLAG']"
      ]
     },
     "execution_count": 17,
     "metadata": {},
     "output_type": "execute_result"
    }
   ],
   "source": [
    "[col.upper() +\"_FLAG\" if \"no\" not in col else col.upper() for col in df.columns]"
   ]
  },
  {
   "cell_type": "markdown",
   "id": "c9103d7e-6aad-41de-9585-229eac160a71",
   "metadata": {},
   "source": [
    "### Görev 3: List Comprehension yapısı kullanarak aşağıda verilen değişken isimlerinden FARKLI olan değişkenlerin isimlerini seçiniz ve yeni bir dataframe oluşturunuz."
   ]
  },
  {
   "cell_type": "markdown",
   "id": "700625d7-b80c-4fe2-a292-c0b93815dbeb",
   "metadata": {},
   "source": [
    "* Önce verilen listeye göre list comprehension kullanarak new_cols adında yeni liste oluşturunuz.\n",
    "Sonra df[new_cols] ile bu değişkenleri seçerek yeni bir df oluşturunuz ve adını new_df olarak isimlendiriniz."
   ]
  },
  {
   "cell_type": "code",
   "execution_count": 18,
   "id": "83dbbe82-862d-4e89-9c42-b6f2e31bf81c",
   "metadata": {},
   "outputs": [],
   "source": [
    "og_list = [\"abbrev\",\"no_previous\"]"
   ]
  },
  {
   "cell_type": "code",
   "execution_count": 20,
   "id": "c5be6550-d315-4d29-aadf-eb25b4148bc1",
   "metadata": {},
   "outputs": [
    {
     "data": {
      "text/html": [
       "<div>\n",
       "<style scoped>\n",
       "    .dataframe tbody tr th:only-of-type {\n",
       "        vertical-align: middle;\n",
       "    }\n",
       "\n",
       "    .dataframe tbody tr th {\n",
       "        vertical-align: top;\n",
       "    }\n",
       "\n",
       "    .dataframe thead th {\n",
       "        text-align: right;\n",
       "    }\n",
       "</style>\n",
       "<table border=\"1\" class=\"dataframe\">\n",
       "  <thead>\n",
       "    <tr style=\"text-align: right;\">\n",
       "      <th></th>\n",
       "      <th>total</th>\n",
       "      <th>speeding</th>\n",
       "      <th>alcohol</th>\n",
       "      <th>not_distracted</th>\n",
       "      <th>ins_premium</th>\n",
       "      <th>ins_losses</th>\n",
       "    </tr>\n",
       "  </thead>\n",
       "  <tbody>\n",
       "    <tr>\n",
       "      <th>0</th>\n",
       "      <td>18.8</td>\n",
       "      <td>7.332</td>\n",
       "      <td>5.640</td>\n",
       "      <td>18.048</td>\n",
       "      <td>784.55</td>\n",
       "      <td>145.08</td>\n",
       "    </tr>\n",
       "    <tr>\n",
       "      <th>1</th>\n",
       "      <td>18.1</td>\n",
       "      <td>7.421</td>\n",
       "      <td>4.525</td>\n",
       "      <td>16.290</td>\n",
       "      <td>1053.48</td>\n",
       "      <td>133.93</td>\n",
       "    </tr>\n",
       "    <tr>\n",
       "      <th>2</th>\n",
       "      <td>18.6</td>\n",
       "      <td>6.510</td>\n",
       "      <td>5.208</td>\n",
       "      <td>15.624</td>\n",
       "      <td>899.47</td>\n",
       "      <td>110.35</td>\n",
       "    </tr>\n",
       "    <tr>\n",
       "      <th>3</th>\n",
       "      <td>22.4</td>\n",
       "      <td>4.032</td>\n",
       "      <td>5.824</td>\n",
       "      <td>21.056</td>\n",
       "      <td>827.34</td>\n",
       "      <td>142.39</td>\n",
       "    </tr>\n",
       "    <tr>\n",
       "      <th>4</th>\n",
       "      <td>12.0</td>\n",
       "      <td>4.200</td>\n",
       "      <td>3.360</td>\n",
       "      <td>10.920</td>\n",
       "      <td>878.41</td>\n",
       "      <td>165.63</td>\n",
       "    </tr>\n",
       "  </tbody>\n",
       "</table>\n",
       "</div>"
      ],
      "text/plain": [
       "   total  speeding  alcohol  not_distracted  ins_premium  ins_losses\n",
       "0   18.8     7.332    5.640          18.048       784.55      145.08\n",
       "1   18.1     7.421    4.525          16.290      1053.48      133.93\n",
       "2   18.6     6.510    5.208          15.624       899.47      110.35\n",
       "3   22.4     4.032    5.824          21.056       827.34      142.39\n",
       "4   12.0     4.200    3.360          10.920       878.41      165.63"
      ]
     },
     "execution_count": 20,
     "metadata": {},
     "output_type": "execute_result"
    }
   ],
   "source": [
    "new_cols =[col for col in df.columns if col not in og_list]\n",
    "new_df = df[new_cols]\n",
    "new_df.head()"
   ]
  },
  {
   "cell_type": "markdown",
   "id": "cbbaec41-ad3a-4f1b-9fe1-c8179ed104f0",
   "metadata": {},
   "source": [
    "### Pandas Alıştırmalar"
   ]
  },
  {
   "cell_type": "markdown",
   "id": "909e485b-75f3-445b-a012-5817cde06729",
   "metadata": {},
   "source": [
    "### Görev 1: Seaborn kütüphanesi içerisinden Titanic veri setini tanımlayınız."
   ]
  },
  {
   "cell_type": "code",
   "execution_count": 21,
   "id": "3d56b6b5-de07-49df-a9af-5187578d04a7",
   "metadata": {},
   "outputs": [],
   "source": [
    "df = sns.load_dataset(\"Titanic\")"
   ]
  },
  {
   "cell_type": "markdown",
   "id": "826ac9cf-1e80-4710-8daa-689527082bd8",
   "metadata": {},
   "source": [
    "### Görev 2: Titanic veri setindeki kadın ve erkek yolcuların sayısını bulunuz."
   ]
  },
  {
   "cell_type": "code",
   "execution_count": 27,
   "id": "a7f6c5a8-ad77-483f-9926-b550cf3f7630",
   "metadata": {},
   "outputs": [
    {
     "data": {
      "text/plain": [
       "male      577\n",
       "female    314\n",
       "Name: sex, dtype: int64"
      ]
     },
     "execution_count": 27,
     "metadata": {},
     "output_type": "execute_result"
    }
   ],
   "source": [
    "df[\"sex\"].value_counts()"
   ]
  },
  {
   "cell_type": "markdown",
   "id": "4d3190e0-aab4-4b3e-ab48-790319888a8a",
   "metadata": {},
   "source": [
    "### Görev 3: Her bir sutuna ait unique değerlerin sayısını bulunuz."
   ]
  },
  {
   "cell_type": "code",
   "execution_count": 30,
   "id": "d30dfa51-0885-495d-9def-77f68db721c3",
   "metadata": {},
   "outputs": [
    {
     "data": {
      "text/plain": [
       "survived         2\n",
       "pclass           3\n",
       "sex              2\n",
       "age             88\n",
       "sibsp            7\n",
       "parch            7\n",
       "fare           248\n",
       "embarked         3\n",
       "class            3\n",
       "who              3\n",
       "adult_male       2\n",
       "deck             7\n",
       "embark_town      3\n",
       "alive            2\n",
       "alone            2\n",
       "dtype: int64"
      ]
     },
     "execution_count": 30,
     "metadata": {},
     "output_type": "execute_result"
    }
   ],
   "source": [
    "df.nunique()"
   ]
  },
  {
   "cell_type": "markdown",
   "id": "49581e9f-e885-4763-880b-89394830e325",
   "metadata": {},
   "source": [
    "### Görev 4: pclass değişkeninin unique değerlerinin sayısını bulunuz."
   ]
  },
  {
   "cell_type": "code",
   "execution_count": 32,
   "id": "7fcd5bc2-dc76-4790-a0e4-246ea4a424e0",
   "metadata": {},
   "outputs": [
    {
     "data": {
      "text/plain": [
       "3"
      ]
     },
     "execution_count": 32,
     "metadata": {},
     "output_type": "execute_result"
    }
   ],
   "source": [
    "df[\"pclass\"].nunique()"
   ]
  },
  {
   "cell_type": "markdown",
   "id": "1f5900ad-bf50-416d-ab37-0a2b70d2c682",
   "metadata": {},
   "source": [
    "### Görev 5: pclass ve parch değişkenlerinin unique değerlerinin sayısını bulunuz."
   ]
  },
  {
   "cell_type": "code",
   "execution_count": 33,
   "id": "9e827d51-3eef-4147-a22e-47d7034bc1b2",
   "metadata": {},
   "outputs": [
    {
     "data": {
      "text/plain": [
       "pclass    3\n",
       "parch     7\n",
       "dtype: int64"
      ]
     },
     "execution_count": 33,
     "metadata": {},
     "output_type": "execute_result"
    }
   ],
   "source": [
    "df[[\"pclass\",\"parch\"]].nunique()"
   ]
  },
  {
   "cell_type": "markdown",
   "id": "133a0a27-7e60-42c4-8583-afa8cc9de866",
   "metadata": {},
   "source": [
    "### Görev 6: embarked değişkeninin tipini kontrol ediniz. Tipini category olarak değiştiriniz ve tekrar kontrol ediniz."
   ]
  },
  {
   "cell_type": "code",
   "execution_count": 34,
   "id": "fc580bb6-1ce4-4aa1-825b-3ce7f3371d1a",
   "metadata": {},
   "outputs": [
    {
     "data": {
      "text/plain": [
       "dtype('O')"
      ]
     },
     "execution_count": 34,
     "metadata": {},
     "output_type": "execute_result"
    }
   ],
   "source": [
    "df[\"embarked\"].dtype"
   ]
  },
  {
   "cell_type": "code",
   "execution_count": 36,
   "id": "0891f956-5b48-405f-950c-f7c2e3abbd12",
   "metadata": {},
   "outputs": [
    {
     "data": {
      "text/plain": [
       "CategoricalDtype(categories=['C', 'Q', 'S'], ordered=False)"
      ]
     },
     "execution_count": 36,
     "metadata": {},
     "output_type": "execute_result"
    }
   ],
   "source": [
    "df[\"embarked\"] = df[\"embarked\"].astype(\"category\")\n",
    "df[\"embarked\"].dtype"
   ]
  },
  {
   "cell_type": "markdown",
   "id": "eb7a7017-c952-4f4a-ba84-1d22b2745c97",
   "metadata": {},
   "source": [
    "### Görev 7: embarked değeri C olanların tüm bilgelerini gösteriniz."
   ]
  },
  {
   "cell_type": "code",
   "execution_count": 39,
   "id": "eca86fa8-94cc-4986-99d9-7b11fa2e1b17",
   "metadata": {},
   "outputs": [
    {
     "data": {
      "text/html": [
       "<div>\n",
       "<style scoped>\n",
       "    .dataframe tbody tr th:only-of-type {\n",
       "        vertical-align: middle;\n",
       "    }\n",
       "\n",
       "    .dataframe tbody tr th {\n",
       "        vertical-align: top;\n",
       "    }\n",
       "\n",
       "    .dataframe thead th {\n",
       "        text-align: right;\n",
       "    }\n",
       "</style>\n",
       "<table border=\"1\" class=\"dataframe\">\n",
       "  <thead>\n",
       "    <tr style=\"text-align: right;\">\n",
       "      <th></th>\n",
       "      <th>survived</th>\n",
       "      <th>pclass</th>\n",
       "      <th>sex</th>\n",
       "      <th>age</th>\n",
       "      <th>sibsp</th>\n",
       "      <th>parch</th>\n",
       "      <th>fare</th>\n",
       "      <th>embarked</th>\n",
       "      <th>class</th>\n",
       "      <th>who</th>\n",
       "      <th>adult_male</th>\n",
       "      <th>deck</th>\n",
       "      <th>embark_town</th>\n",
       "      <th>alive</th>\n",
       "      <th>alone</th>\n",
       "    </tr>\n",
       "  </thead>\n",
       "  <tbody>\n",
       "    <tr>\n",
       "      <th>1</th>\n",
       "      <td>1</td>\n",
       "      <td>1</td>\n",
       "      <td>female</td>\n",
       "      <td>38.0</td>\n",
       "      <td>1</td>\n",
       "      <td>0</td>\n",
       "      <td>71.2833</td>\n",
       "      <td>C</td>\n",
       "      <td>First</td>\n",
       "      <td>woman</td>\n",
       "      <td>False</td>\n",
       "      <td>C</td>\n",
       "      <td>Cherbourg</td>\n",
       "      <td>yes</td>\n",
       "      <td>False</td>\n",
       "    </tr>\n",
       "    <tr>\n",
       "      <th>9</th>\n",
       "      <td>1</td>\n",
       "      <td>2</td>\n",
       "      <td>female</td>\n",
       "      <td>14.0</td>\n",
       "      <td>1</td>\n",
       "      <td>0</td>\n",
       "      <td>30.0708</td>\n",
       "      <td>C</td>\n",
       "      <td>Second</td>\n",
       "      <td>child</td>\n",
       "      <td>False</td>\n",
       "      <td>NaN</td>\n",
       "      <td>Cherbourg</td>\n",
       "      <td>yes</td>\n",
       "      <td>False</td>\n",
       "    </tr>\n",
       "    <tr>\n",
       "      <th>19</th>\n",
       "      <td>1</td>\n",
       "      <td>3</td>\n",
       "      <td>female</td>\n",
       "      <td>NaN</td>\n",
       "      <td>0</td>\n",
       "      <td>0</td>\n",
       "      <td>7.2250</td>\n",
       "      <td>C</td>\n",
       "      <td>Third</td>\n",
       "      <td>woman</td>\n",
       "      <td>False</td>\n",
       "      <td>NaN</td>\n",
       "      <td>Cherbourg</td>\n",
       "      <td>yes</td>\n",
       "      <td>True</td>\n",
       "    </tr>\n",
       "    <tr>\n",
       "      <th>26</th>\n",
       "      <td>0</td>\n",
       "      <td>3</td>\n",
       "      <td>male</td>\n",
       "      <td>NaN</td>\n",
       "      <td>0</td>\n",
       "      <td>0</td>\n",
       "      <td>7.2250</td>\n",
       "      <td>C</td>\n",
       "      <td>Third</td>\n",
       "      <td>man</td>\n",
       "      <td>True</td>\n",
       "      <td>NaN</td>\n",
       "      <td>Cherbourg</td>\n",
       "      <td>no</td>\n",
       "      <td>True</td>\n",
       "    </tr>\n",
       "    <tr>\n",
       "      <th>30</th>\n",
       "      <td>0</td>\n",
       "      <td>1</td>\n",
       "      <td>male</td>\n",
       "      <td>40.0</td>\n",
       "      <td>0</td>\n",
       "      <td>0</td>\n",
       "      <td>27.7208</td>\n",
       "      <td>C</td>\n",
       "      <td>First</td>\n",
       "      <td>man</td>\n",
       "      <td>True</td>\n",
       "      <td>NaN</td>\n",
       "      <td>Cherbourg</td>\n",
       "      <td>no</td>\n",
       "      <td>True</td>\n",
       "    </tr>\n",
       "  </tbody>\n",
       "</table>\n",
       "</div>"
      ],
      "text/plain": [
       "    survived  pclass     sex   age  sibsp  parch     fare embarked   class  \\\n",
       "1          1       1  female  38.0      1      0  71.2833        C   First   \n",
       "9          1       2  female  14.0      1      0  30.0708        C  Second   \n",
       "19         1       3  female   NaN      0      0   7.2250        C   Third   \n",
       "26         0       3    male   NaN      0      0   7.2250        C   Third   \n",
       "30         0       1    male  40.0      0      0  27.7208        C   First   \n",
       "\n",
       "      who  adult_male deck embark_town alive  alone  \n",
       "1   woman       False    C   Cherbourg   yes  False  \n",
       "9   child       False  NaN   Cherbourg   yes  False  \n",
       "19  woman       False  NaN   Cherbourg   yes   True  \n",
       "26    man        True  NaN   Cherbourg    no   True  \n",
       "30    man        True  NaN   Cherbourg    no   True  "
      ]
     },
     "execution_count": 39,
     "metadata": {},
     "output_type": "execute_result"
    }
   ],
   "source": [
    "df[df[\"embarked\"] == \"C\"].head()"
   ]
  },
  {
   "cell_type": "markdown",
   "id": "8254ddf3-856a-4625-baeb-7e80dd1c9896",
   "metadata": {},
   "source": [
    "### Görev 8: embarked değeri S olmayanların tüm bilgelerini gösteriniz."
   ]
  },
  {
   "cell_type": "code",
   "execution_count": 49,
   "id": "eef0e207-e9e9-496a-a7e4-dbec0ea5a7ac",
   "metadata": {},
   "outputs": [
    {
     "data": {
      "text/html": [
       "<div>\n",
       "<style scoped>\n",
       "    .dataframe tbody tr th:only-of-type {\n",
       "        vertical-align: middle;\n",
       "    }\n",
       "\n",
       "    .dataframe tbody tr th {\n",
       "        vertical-align: top;\n",
       "    }\n",
       "\n",
       "    .dataframe thead th {\n",
       "        text-align: right;\n",
       "    }\n",
       "</style>\n",
       "<table border=\"1\" class=\"dataframe\">\n",
       "  <thead>\n",
       "    <tr style=\"text-align: right;\">\n",
       "      <th></th>\n",
       "      <th>survived</th>\n",
       "      <th>pclass</th>\n",
       "      <th>sex</th>\n",
       "      <th>age</th>\n",
       "      <th>sibsp</th>\n",
       "      <th>parch</th>\n",
       "      <th>fare</th>\n",
       "      <th>embarked</th>\n",
       "      <th>class</th>\n",
       "      <th>who</th>\n",
       "      <th>adult_male</th>\n",
       "      <th>deck</th>\n",
       "      <th>embark_town</th>\n",
       "      <th>alive</th>\n",
       "      <th>alone</th>\n",
       "    </tr>\n",
       "  </thead>\n",
       "  <tbody>\n",
       "    <tr>\n",
       "      <th>1</th>\n",
       "      <td>1</td>\n",
       "      <td>1</td>\n",
       "      <td>female</td>\n",
       "      <td>38.0</td>\n",
       "      <td>1</td>\n",
       "      <td>0</td>\n",
       "      <td>71.2833</td>\n",
       "      <td>C</td>\n",
       "      <td>First</td>\n",
       "      <td>woman</td>\n",
       "      <td>False</td>\n",
       "      <td>C</td>\n",
       "      <td>Cherbourg</td>\n",
       "      <td>yes</td>\n",
       "      <td>False</td>\n",
       "    </tr>\n",
       "    <tr>\n",
       "      <th>5</th>\n",
       "      <td>0</td>\n",
       "      <td>3</td>\n",
       "      <td>male</td>\n",
       "      <td>NaN</td>\n",
       "      <td>0</td>\n",
       "      <td>0</td>\n",
       "      <td>8.4583</td>\n",
       "      <td>Q</td>\n",
       "      <td>Third</td>\n",
       "      <td>man</td>\n",
       "      <td>True</td>\n",
       "      <td>NaN</td>\n",
       "      <td>Queenstown</td>\n",
       "      <td>no</td>\n",
       "      <td>True</td>\n",
       "    </tr>\n",
       "    <tr>\n",
       "      <th>9</th>\n",
       "      <td>1</td>\n",
       "      <td>2</td>\n",
       "      <td>female</td>\n",
       "      <td>14.0</td>\n",
       "      <td>1</td>\n",
       "      <td>0</td>\n",
       "      <td>30.0708</td>\n",
       "      <td>C</td>\n",
       "      <td>Second</td>\n",
       "      <td>child</td>\n",
       "      <td>False</td>\n",
       "      <td>NaN</td>\n",
       "      <td>Cherbourg</td>\n",
       "      <td>yes</td>\n",
       "      <td>False</td>\n",
       "    </tr>\n",
       "    <tr>\n",
       "      <th>16</th>\n",
       "      <td>0</td>\n",
       "      <td>3</td>\n",
       "      <td>male</td>\n",
       "      <td>2.0</td>\n",
       "      <td>4</td>\n",
       "      <td>1</td>\n",
       "      <td>29.1250</td>\n",
       "      <td>Q</td>\n",
       "      <td>Third</td>\n",
       "      <td>child</td>\n",
       "      <td>False</td>\n",
       "      <td>NaN</td>\n",
       "      <td>Queenstown</td>\n",
       "      <td>no</td>\n",
       "      <td>False</td>\n",
       "    </tr>\n",
       "    <tr>\n",
       "      <th>19</th>\n",
       "      <td>1</td>\n",
       "      <td>3</td>\n",
       "      <td>female</td>\n",
       "      <td>NaN</td>\n",
       "      <td>0</td>\n",
       "      <td>0</td>\n",
       "      <td>7.2250</td>\n",
       "      <td>C</td>\n",
       "      <td>Third</td>\n",
       "      <td>woman</td>\n",
       "      <td>False</td>\n",
       "      <td>NaN</td>\n",
       "      <td>Cherbourg</td>\n",
       "      <td>yes</td>\n",
       "      <td>True</td>\n",
       "    </tr>\n",
       "  </tbody>\n",
       "</table>\n",
       "</div>"
      ],
      "text/plain": [
       "    survived  pclass     sex   age  sibsp  parch     fare embarked   class  \\\n",
       "1          1       1  female  38.0      1      0  71.2833        C   First   \n",
       "5          0       3    male   NaN      0      0   8.4583        Q   Third   \n",
       "9          1       2  female  14.0      1      0  30.0708        C  Second   \n",
       "16         0       3    male   2.0      4      1  29.1250        Q   Third   \n",
       "19         1       3  female   NaN      0      0   7.2250        C   Third   \n",
       "\n",
       "      who  adult_male deck embark_town alive  alone  \n",
       "1   woman       False    C   Cherbourg   yes  False  \n",
       "5     man        True  NaN  Queenstown    no   True  \n",
       "9   child       False  NaN   Cherbourg   yes  False  \n",
       "16  child       False  NaN  Queenstown    no  False  \n",
       "19  woman       False  NaN   Cherbourg   yes   True  "
      ]
     },
     "execution_count": 49,
     "metadata": {},
     "output_type": "execute_result"
    }
   ],
   "source": [
    "df[df[\"embarked\"] != \"S\"].head()"
   ]
  },
  {
   "cell_type": "markdown",
   "id": "28cd023f-9ed3-4ab2-b038-4d2a5cabfd71",
   "metadata": {},
   "source": [
    "### Görev 9: Yaşı 30 dan küçük ve kadın olan yolcuların tüm bilgilerini gösteriniz."
   ]
  },
  {
   "cell_type": "code",
   "execution_count": 45,
   "id": "65dd7069-2781-4db2-9dd9-6ce7eb52dc3e",
   "metadata": {},
   "outputs": [
    {
     "data": {
      "text/html": [
       "<div>\n",
       "<style scoped>\n",
       "    .dataframe tbody tr th:only-of-type {\n",
       "        vertical-align: middle;\n",
       "    }\n",
       "\n",
       "    .dataframe tbody tr th {\n",
       "        vertical-align: top;\n",
       "    }\n",
       "\n",
       "    .dataframe thead th {\n",
       "        text-align: right;\n",
       "    }\n",
       "</style>\n",
       "<table border=\"1\" class=\"dataframe\">\n",
       "  <thead>\n",
       "    <tr style=\"text-align: right;\">\n",
       "      <th></th>\n",
       "      <th>survived</th>\n",
       "      <th>pclass</th>\n",
       "      <th>sex</th>\n",
       "      <th>age</th>\n",
       "      <th>sibsp</th>\n",
       "      <th>parch</th>\n",
       "      <th>fare</th>\n",
       "      <th>embarked</th>\n",
       "      <th>class</th>\n",
       "      <th>who</th>\n",
       "      <th>adult_male</th>\n",
       "      <th>deck</th>\n",
       "      <th>embark_town</th>\n",
       "      <th>alive</th>\n",
       "      <th>alone</th>\n",
       "    </tr>\n",
       "  </thead>\n",
       "  <tbody>\n",
       "    <tr>\n",
       "      <th>2</th>\n",
       "      <td>1</td>\n",
       "      <td>3</td>\n",
       "      <td>female</td>\n",
       "      <td>26.0</td>\n",
       "      <td>0</td>\n",
       "      <td>0</td>\n",
       "      <td>7.9250</td>\n",
       "      <td>S</td>\n",
       "      <td>Third</td>\n",
       "      <td>woman</td>\n",
       "      <td>False</td>\n",
       "      <td>NaN</td>\n",
       "      <td>Southampton</td>\n",
       "      <td>yes</td>\n",
       "      <td>True</td>\n",
       "    </tr>\n",
       "    <tr>\n",
       "      <th>8</th>\n",
       "      <td>1</td>\n",
       "      <td>3</td>\n",
       "      <td>female</td>\n",
       "      <td>27.0</td>\n",
       "      <td>0</td>\n",
       "      <td>2</td>\n",
       "      <td>11.1333</td>\n",
       "      <td>S</td>\n",
       "      <td>Third</td>\n",
       "      <td>woman</td>\n",
       "      <td>False</td>\n",
       "      <td>NaN</td>\n",
       "      <td>Southampton</td>\n",
       "      <td>yes</td>\n",
       "      <td>False</td>\n",
       "    </tr>\n",
       "    <tr>\n",
       "      <th>9</th>\n",
       "      <td>1</td>\n",
       "      <td>2</td>\n",
       "      <td>female</td>\n",
       "      <td>14.0</td>\n",
       "      <td>1</td>\n",
       "      <td>0</td>\n",
       "      <td>30.0708</td>\n",
       "      <td>C</td>\n",
       "      <td>Second</td>\n",
       "      <td>child</td>\n",
       "      <td>False</td>\n",
       "      <td>NaN</td>\n",
       "      <td>Cherbourg</td>\n",
       "      <td>yes</td>\n",
       "      <td>False</td>\n",
       "    </tr>\n",
       "    <tr>\n",
       "      <th>10</th>\n",
       "      <td>1</td>\n",
       "      <td>3</td>\n",
       "      <td>female</td>\n",
       "      <td>4.0</td>\n",
       "      <td>1</td>\n",
       "      <td>1</td>\n",
       "      <td>16.7000</td>\n",
       "      <td>S</td>\n",
       "      <td>Third</td>\n",
       "      <td>child</td>\n",
       "      <td>False</td>\n",
       "      <td>G</td>\n",
       "      <td>Southampton</td>\n",
       "      <td>yes</td>\n",
       "      <td>False</td>\n",
       "    </tr>\n",
       "    <tr>\n",
       "      <th>14</th>\n",
       "      <td>0</td>\n",
       "      <td>3</td>\n",
       "      <td>female</td>\n",
       "      <td>14.0</td>\n",
       "      <td>0</td>\n",
       "      <td>0</td>\n",
       "      <td>7.8542</td>\n",
       "      <td>S</td>\n",
       "      <td>Third</td>\n",
       "      <td>child</td>\n",
       "      <td>False</td>\n",
       "      <td>NaN</td>\n",
       "      <td>Southampton</td>\n",
       "      <td>no</td>\n",
       "      <td>True</td>\n",
       "    </tr>\n",
       "  </tbody>\n",
       "</table>\n",
       "</div>"
      ],
      "text/plain": [
       "    survived  pclass     sex   age  sibsp  parch     fare embarked   class  \\\n",
       "2          1       3  female  26.0      0      0   7.9250        S   Third   \n",
       "8          1       3  female  27.0      0      2  11.1333        S   Third   \n",
       "9          1       2  female  14.0      1      0  30.0708        C  Second   \n",
       "10         1       3  female   4.0      1      1  16.7000        S   Third   \n",
       "14         0       3  female  14.0      0      0   7.8542        S   Third   \n",
       "\n",
       "      who  adult_male deck  embark_town alive  alone  \n",
       "2   woman       False  NaN  Southampton   yes   True  \n",
       "8   woman       False  NaN  Southampton   yes  False  \n",
       "9   child       False  NaN    Cherbourg   yes  False  \n",
       "10  child       False    G  Southampton   yes  False  \n",
       "14  child       False  NaN  Southampton    no   True  "
      ]
     },
     "execution_count": 45,
     "metadata": {},
     "output_type": "execute_result"
    }
   ],
   "source": [
    "df[(df[\"age\"] < 30) & (df[\"sex\"] == \"female\")].head()"
   ]
  },
  {
   "cell_type": "markdown",
   "id": "77e75cee-0811-43df-ac1a-10f6a943b81f",
   "metadata": {},
   "source": [
    "### Görev 10: Fare'i 500'den büyük veya yaşı 70 den büyük yolcuların bilgilerini gösteriniz."
   ]
  },
  {
   "cell_type": "code",
   "execution_count": 46,
   "id": "2b16af5c-55e9-4e44-adf2-14a379a1ae67",
   "metadata": {},
   "outputs": [
    {
     "data": {
      "text/html": [
       "<div>\n",
       "<style scoped>\n",
       "    .dataframe tbody tr th:only-of-type {\n",
       "        vertical-align: middle;\n",
       "    }\n",
       "\n",
       "    .dataframe tbody tr th {\n",
       "        vertical-align: top;\n",
       "    }\n",
       "\n",
       "    .dataframe thead th {\n",
       "        text-align: right;\n",
       "    }\n",
       "</style>\n",
       "<table border=\"1\" class=\"dataframe\">\n",
       "  <thead>\n",
       "    <tr style=\"text-align: right;\">\n",
       "      <th></th>\n",
       "      <th>survived</th>\n",
       "      <th>pclass</th>\n",
       "      <th>sex</th>\n",
       "      <th>age</th>\n",
       "      <th>sibsp</th>\n",
       "      <th>parch</th>\n",
       "      <th>fare</th>\n",
       "      <th>embarked</th>\n",
       "      <th>class</th>\n",
       "      <th>who</th>\n",
       "      <th>adult_male</th>\n",
       "      <th>deck</th>\n",
       "      <th>embark_town</th>\n",
       "      <th>alive</th>\n",
       "      <th>alone</th>\n",
       "    </tr>\n",
       "  </thead>\n",
       "  <tbody>\n",
       "    <tr>\n",
       "      <th>96</th>\n",
       "      <td>0</td>\n",
       "      <td>1</td>\n",
       "      <td>male</td>\n",
       "      <td>71.0</td>\n",
       "      <td>0</td>\n",
       "      <td>0</td>\n",
       "      <td>34.6542</td>\n",
       "      <td>C</td>\n",
       "      <td>First</td>\n",
       "      <td>man</td>\n",
       "      <td>True</td>\n",
       "      <td>A</td>\n",
       "      <td>Cherbourg</td>\n",
       "      <td>no</td>\n",
       "      <td>True</td>\n",
       "    </tr>\n",
       "    <tr>\n",
       "      <th>116</th>\n",
       "      <td>0</td>\n",
       "      <td>3</td>\n",
       "      <td>male</td>\n",
       "      <td>70.5</td>\n",
       "      <td>0</td>\n",
       "      <td>0</td>\n",
       "      <td>7.7500</td>\n",
       "      <td>Q</td>\n",
       "      <td>Third</td>\n",
       "      <td>man</td>\n",
       "      <td>True</td>\n",
       "      <td>NaN</td>\n",
       "      <td>Queenstown</td>\n",
       "      <td>no</td>\n",
       "      <td>True</td>\n",
       "    </tr>\n",
       "    <tr>\n",
       "      <th>258</th>\n",
       "      <td>1</td>\n",
       "      <td>1</td>\n",
       "      <td>female</td>\n",
       "      <td>35.0</td>\n",
       "      <td>0</td>\n",
       "      <td>0</td>\n",
       "      <td>512.3292</td>\n",
       "      <td>C</td>\n",
       "      <td>First</td>\n",
       "      <td>woman</td>\n",
       "      <td>False</td>\n",
       "      <td>NaN</td>\n",
       "      <td>Cherbourg</td>\n",
       "      <td>yes</td>\n",
       "      <td>True</td>\n",
       "    </tr>\n",
       "    <tr>\n",
       "      <th>493</th>\n",
       "      <td>0</td>\n",
       "      <td>1</td>\n",
       "      <td>male</td>\n",
       "      <td>71.0</td>\n",
       "      <td>0</td>\n",
       "      <td>0</td>\n",
       "      <td>49.5042</td>\n",
       "      <td>C</td>\n",
       "      <td>First</td>\n",
       "      <td>man</td>\n",
       "      <td>True</td>\n",
       "      <td>NaN</td>\n",
       "      <td>Cherbourg</td>\n",
       "      <td>no</td>\n",
       "      <td>True</td>\n",
       "    </tr>\n",
       "    <tr>\n",
       "      <th>630</th>\n",
       "      <td>1</td>\n",
       "      <td>1</td>\n",
       "      <td>male</td>\n",
       "      <td>80.0</td>\n",
       "      <td>0</td>\n",
       "      <td>0</td>\n",
       "      <td>30.0000</td>\n",
       "      <td>S</td>\n",
       "      <td>First</td>\n",
       "      <td>man</td>\n",
       "      <td>True</td>\n",
       "      <td>A</td>\n",
       "      <td>Southampton</td>\n",
       "      <td>yes</td>\n",
       "      <td>True</td>\n",
       "    </tr>\n",
       "    <tr>\n",
       "      <th>679</th>\n",
       "      <td>1</td>\n",
       "      <td>1</td>\n",
       "      <td>male</td>\n",
       "      <td>36.0</td>\n",
       "      <td>0</td>\n",
       "      <td>1</td>\n",
       "      <td>512.3292</td>\n",
       "      <td>C</td>\n",
       "      <td>First</td>\n",
       "      <td>man</td>\n",
       "      <td>True</td>\n",
       "      <td>B</td>\n",
       "      <td>Cherbourg</td>\n",
       "      <td>yes</td>\n",
       "      <td>False</td>\n",
       "    </tr>\n",
       "    <tr>\n",
       "      <th>737</th>\n",
       "      <td>1</td>\n",
       "      <td>1</td>\n",
       "      <td>male</td>\n",
       "      <td>35.0</td>\n",
       "      <td>0</td>\n",
       "      <td>0</td>\n",
       "      <td>512.3292</td>\n",
       "      <td>C</td>\n",
       "      <td>First</td>\n",
       "      <td>man</td>\n",
       "      <td>True</td>\n",
       "      <td>B</td>\n",
       "      <td>Cherbourg</td>\n",
       "      <td>yes</td>\n",
       "      <td>True</td>\n",
       "    </tr>\n",
       "    <tr>\n",
       "      <th>851</th>\n",
       "      <td>0</td>\n",
       "      <td>3</td>\n",
       "      <td>male</td>\n",
       "      <td>74.0</td>\n",
       "      <td>0</td>\n",
       "      <td>0</td>\n",
       "      <td>7.7750</td>\n",
       "      <td>S</td>\n",
       "      <td>Third</td>\n",
       "      <td>man</td>\n",
       "      <td>True</td>\n",
       "      <td>NaN</td>\n",
       "      <td>Southampton</td>\n",
       "      <td>no</td>\n",
       "      <td>True</td>\n",
       "    </tr>\n",
       "  </tbody>\n",
       "</table>\n",
       "</div>"
      ],
      "text/plain": [
       "     survived  pclass     sex   age  sibsp  parch      fare embarked  class  \\\n",
       "96          0       1    male  71.0      0      0   34.6542        C  First   \n",
       "116         0       3    male  70.5      0      0    7.7500        Q  Third   \n",
       "258         1       1  female  35.0      0      0  512.3292        C  First   \n",
       "493         0       1    male  71.0      0      0   49.5042        C  First   \n",
       "630         1       1    male  80.0      0      0   30.0000        S  First   \n",
       "679         1       1    male  36.0      0      1  512.3292        C  First   \n",
       "737         1       1    male  35.0      0      0  512.3292        C  First   \n",
       "851         0       3    male  74.0      0      0    7.7750        S  Third   \n",
       "\n",
       "       who  adult_male deck  embark_town alive  alone  \n",
       "96     man        True    A    Cherbourg    no   True  \n",
       "116    man        True  NaN   Queenstown    no   True  \n",
       "258  woman       False  NaN    Cherbourg   yes   True  \n",
       "493    man        True  NaN    Cherbourg    no   True  \n",
       "630    man        True    A  Southampton   yes   True  \n",
       "679    man        True    B    Cherbourg   yes  False  \n",
       "737    man        True    B    Cherbourg   yes   True  \n",
       "851    man        True  NaN  Southampton    no   True  "
      ]
     },
     "execution_count": 46,
     "metadata": {},
     "output_type": "execute_result"
    }
   ],
   "source": [
    "df[(df[\"age\"] > 70) | (df[\"fare\"] > 500)]"
   ]
  },
  {
   "cell_type": "markdown",
   "id": "6459dd2e-1eed-4780-8dde-cf135e38d997",
   "metadata": {},
   "source": [
    "### Görev 11: Her bir değişkendeki boş değerlerin toplamını bulunuz."
   ]
  },
  {
   "cell_type": "code",
   "execution_count": 51,
   "id": "3e2f412e-e673-4f5c-831e-37cdd4efdcd3",
   "metadata": {},
   "outputs": [
    {
     "data": {
      "text/plain": [
       "survived         0\n",
       "pclass           0\n",
       "sex              0\n",
       "age            177\n",
       "sibsp            0\n",
       "parch            0\n",
       "fare             0\n",
       "embarked         2\n",
       "class            0\n",
       "who              0\n",
       "adult_male       0\n",
       "deck           688\n",
       "embark_town      2\n",
       "alive            0\n",
       "alone            0\n",
       "dtype: int64"
      ]
     },
     "execution_count": 51,
     "metadata": {},
     "output_type": "execute_result"
    }
   ],
   "source": [
    "df.isnull().sum()"
   ]
  },
  {
   "cell_type": "markdown",
   "id": "928ab0f2-97ad-4b07-890e-502c6495a744",
   "metadata": {},
   "source": [
    "### Görev 12: who değişkenini dataframe’den çıkarınız."
   ]
  },
  {
   "cell_type": "code",
   "execution_count": 54,
   "id": "67db8867-1928-4033-9e9c-2244a678076a",
   "metadata": {},
   "outputs": [
    {
     "data": {
      "text/plain": [
       "Index(['survived', 'pclass', 'sex', 'age', 'sibsp', 'parch', 'fare',\n",
       "       'embarked', 'class', 'adult_male', 'deck', 'embark_town', 'alive',\n",
       "       'alone'],\n",
       "      dtype='object')"
      ]
     },
     "execution_count": 54,
     "metadata": {},
     "output_type": "execute_result"
    }
   ],
   "source": [
    "df.drop(\"who\", axis=1, inplace = True)\n",
    "df.columns"
   ]
  },
  {
   "cell_type": "markdown",
   "id": "91c450bf-6d69-41dc-9265-08f95b1aae40",
   "metadata": {},
   "source": [
    "### Görev 13: deck değikenindeki boş değerleri deck değişkenin en çok tekrar eden değeri (mode) ile doldurunuz."
   ]
  },
  {
   "cell_type": "code",
   "execution_count": 59,
   "id": "34e50674-d930-400e-8f0a-a27d827298f5",
   "metadata": {},
   "outputs": [
    {
     "data": {
      "text/plain": [
       "survived       0\n",
       "pclass         0\n",
       "sex            0\n",
       "age            0\n",
       "sibsp          0\n",
       "parch          0\n",
       "fare           0\n",
       "embarked       2\n",
       "class          0\n",
       "adult_male     0\n",
       "deck           0\n",
       "embark_town    2\n",
       "alive          0\n",
       "alone          0\n",
       "dtype: int64"
      ]
     },
     "execution_count": 59,
     "metadata": {},
     "output_type": "execute_result"
    }
   ],
   "source": [
    "df[\"deck\"].fillna(df[\"deck\"].mode()[0], inplace = True)\n",
    "df.isnull().sum()"
   ]
  },
  {
   "cell_type": "markdown",
   "id": "d5ea41ef-bf83-4c6a-a0b6-f5c4db4a06a4",
   "metadata": {},
   "source": [
    "### Görev 14: age değikenindeki boş değerleri age değişkenin medyanı ile doldurunuz."
   ]
  },
  {
   "cell_type": "code",
   "execution_count": 58,
   "id": "17a80613-f06f-44e6-9a54-a4680cb6907d",
   "metadata": {},
   "outputs": [
    {
     "data": {
      "text/plain": [
       "survived       0\n",
       "pclass         0\n",
       "sex            0\n",
       "age            0\n",
       "sibsp          0\n",
       "parch          0\n",
       "fare           0\n",
       "embarked       2\n",
       "class          0\n",
       "adult_male     0\n",
       "deck           0\n",
       "embark_town    2\n",
       "alive          0\n",
       "alone          0\n",
       "dtype: int64"
      ]
     },
     "execution_count": 58,
     "metadata": {},
     "output_type": "execute_result"
    }
   ],
   "source": [
    "df[\"age\"].fillna(df[\"age\"].median(), inplace = True)\n",
    "df.isnull().sum()"
   ]
  },
  {
   "cell_type": "markdown",
   "id": "4316eb4e-15f8-4060-b8e4-ec80807003e9",
   "metadata": {},
   "source": [
    "### Görev 15: survived değişkeninin pclass ve cinsiyet değişkenleri kırılımınında sum, count, mean değerlerini bulunuz."
   ]
  },
  {
   "cell_type": "code",
   "execution_count": 62,
   "id": "c6781ae9-f376-4bec-8c37-ed1d58347142",
   "metadata": {},
   "outputs": [
    {
     "data": {
      "text/html": [
       "<div>\n",
       "<style scoped>\n",
       "    .dataframe tbody tr th:only-of-type {\n",
       "        vertical-align: middle;\n",
       "    }\n",
       "\n",
       "    .dataframe tbody tr th {\n",
       "        vertical-align: top;\n",
       "    }\n",
       "\n",
       "    .dataframe thead tr th {\n",
       "        text-align: left;\n",
       "    }\n",
       "\n",
       "    .dataframe thead tr:last-of-type th {\n",
       "        text-align: right;\n",
       "    }\n",
       "</style>\n",
       "<table border=\"1\" class=\"dataframe\">\n",
       "  <thead>\n",
       "    <tr>\n",
       "      <th></th>\n",
       "      <th></th>\n",
       "      <th colspan=\"3\" halign=\"left\">survived</th>\n",
       "    </tr>\n",
       "    <tr>\n",
       "      <th></th>\n",
       "      <th></th>\n",
       "      <th>sum</th>\n",
       "      <th>count</th>\n",
       "      <th>mean</th>\n",
       "    </tr>\n",
       "    <tr>\n",
       "      <th>sex</th>\n",
       "      <th>pclass</th>\n",
       "      <th></th>\n",
       "      <th></th>\n",
       "      <th></th>\n",
       "    </tr>\n",
       "  </thead>\n",
       "  <tbody>\n",
       "    <tr>\n",
       "      <th rowspan=\"3\" valign=\"top\">female</th>\n",
       "      <th>1</th>\n",
       "      <td>91</td>\n",
       "      <td>94</td>\n",
       "      <td>0.968085</td>\n",
       "    </tr>\n",
       "    <tr>\n",
       "      <th>2</th>\n",
       "      <td>70</td>\n",
       "      <td>76</td>\n",
       "      <td>0.921053</td>\n",
       "    </tr>\n",
       "    <tr>\n",
       "      <th>3</th>\n",
       "      <td>72</td>\n",
       "      <td>144</td>\n",
       "      <td>0.500000</td>\n",
       "    </tr>\n",
       "    <tr>\n",
       "      <th rowspan=\"3\" valign=\"top\">male</th>\n",
       "      <th>1</th>\n",
       "      <td>45</td>\n",
       "      <td>122</td>\n",
       "      <td>0.368852</td>\n",
       "    </tr>\n",
       "    <tr>\n",
       "      <th>2</th>\n",
       "      <td>17</td>\n",
       "      <td>108</td>\n",
       "      <td>0.157407</td>\n",
       "    </tr>\n",
       "    <tr>\n",
       "      <th>3</th>\n",
       "      <td>47</td>\n",
       "      <td>347</td>\n",
       "      <td>0.135447</td>\n",
       "    </tr>\n",
       "  </tbody>\n",
       "</table>\n",
       "</div>"
      ],
      "text/plain": [
       "              survived                \n",
       "                   sum count      mean\n",
       "sex    pclass                         \n",
       "female 1            91    94  0.968085\n",
       "       2            70    76  0.921053\n",
       "       3            72   144  0.500000\n",
       "male   1            45   122  0.368852\n",
       "       2            17   108  0.157407\n",
       "       3            47   347  0.135447"
      ]
     },
     "execution_count": 62,
     "metadata": {},
     "output_type": "execute_result"
    }
   ],
   "source": [
    "df.groupby([\"sex\",\"pclass\"]).agg({\"survived\": [\"sum\",\"count\",\"mean\"]})"
   ]
  },
  {
   "cell_type": "markdown",
   "id": "3baf5855-ea90-4f8c-9f09-336e8dc5571a",
   "metadata": {},
   "source": [
    "### Görev 16: 30 yaşın altında olanlar 1, 30'a eşit ve üstünde olanlara 0 vericek bir fonksiyon yazın. Yazdığınız fonksiyonu kullanarak titanik veri setinde age_flag adında bir değişken oluşturunuz oluşturunuz. (apply ve lambda yapılarını kullanınız)"
   ]
  },
  {
   "cell_type": "code",
   "execution_count": 66,
   "id": "164aaf98-59d4-4f82-9319-d9b147a70318",
   "metadata": {},
   "outputs": [
    {
     "data": {
      "text/plain": [
       "0    1\n",
       "1    0\n",
       "2    1\n",
       "3    0\n",
       "4    0\n",
       "Name: age_flag, dtype: int64"
      ]
     },
     "execution_count": 66,
     "metadata": {},
     "output_type": "execute_result"
    }
   ],
   "source": [
    "df[\"age_flag\"] = df[\"age\"].apply(lambda x: 1 if x<30 else 0)\n",
    "df[\"age_flag\"].head()"
   ]
  },
  {
   "cell_type": "markdown",
   "id": "4e1ee6fc-5642-4c02-9699-013e15f8a79f",
   "metadata": {},
   "source": [
    "### Görev 17: Seaborn kütüphanesi içerisinden Tips veri setini tanımlayınız."
   ]
  },
  {
   "cell_type": "code",
   "execution_count": 67,
   "id": "6b7d0955-e00f-48a8-b58c-f4a44bfd301a",
   "metadata": {},
   "outputs": [],
   "source": [
    "df = sns.load_dataset(\"Tips\")"
   ]
  },
  {
   "cell_type": "markdown",
   "id": "ba937b7b-981e-4674-a05f-4899275249fb",
   "metadata": {},
   "source": [
    "### Görev 18: Time değişkeninin kategorilerine (Dinner, Lunch) göre total_bill değerlerinin toplamını, min, max ve ortalamasını bulunuz."
   ]
  },
  {
   "cell_type": "code",
   "execution_count": 70,
   "id": "3c09b706-c161-43af-8de9-eb5160b2b386",
   "metadata": {},
   "outputs": [
    {
     "data": {
      "text/html": [
       "<div>\n",
       "<style scoped>\n",
       "    .dataframe tbody tr th:only-of-type {\n",
       "        vertical-align: middle;\n",
       "    }\n",
       "\n",
       "    .dataframe tbody tr th {\n",
       "        vertical-align: top;\n",
       "    }\n",
       "\n",
       "    .dataframe thead tr th {\n",
       "        text-align: left;\n",
       "    }\n",
       "\n",
       "    .dataframe thead tr:last-of-type th {\n",
       "        text-align: right;\n",
       "    }\n",
       "</style>\n",
       "<table border=\"1\" class=\"dataframe\">\n",
       "  <thead>\n",
       "    <tr>\n",
       "      <th></th>\n",
       "      <th colspan=\"3\" halign=\"left\">total_bill</th>\n",
       "    </tr>\n",
       "    <tr>\n",
       "      <th></th>\n",
       "      <th>min</th>\n",
       "      <th>max</th>\n",
       "      <th>mean</th>\n",
       "    </tr>\n",
       "    <tr>\n",
       "      <th>time</th>\n",
       "      <th></th>\n",
       "      <th></th>\n",
       "      <th></th>\n",
       "    </tr>\n",
       "  </thead>\n",
       "  <tbody>\n",
       "    <tr>\n",
       "      <th>Dinner</th>\n",
       "      <td>3.07</td>\n",
       "      <td>50.81</td>\n",
       "      <td>20.797159</td>\n",
       "    </tr>\n",
       "    <tr>\n",
       "      <th>Lunch</th>\n",
       "      <td>7.51</td>\n",
       "      <td>43.11</td>\n",
       "      <td>17.168676</td>\n",
       "    </tr>\n",
       "  </tbody>\n",
       "</table>\n",
       "</div>"
      ],
      "text/plain": [
       "       total_bill                  \n",
       "              min    max       mean\n",
       "time                               \n",
       "Dinner       3.07  50.81  20.797159\n",
       "Lunch        7.51  43.11  17.168676"
      ]
     },
     "execution_count": 70,
     "metadata": {},
     "output_type": "execute_result"
    }
   ],
   "source": [
    "df.groupby(\"time\").agg({\"total_bill\" : [\"min\",\"max\",\"mean\"]})"
   ]
  },
  {
   "cell_type": "markdown",
   "id": "f738bab5-9b3b-4769-90fe-5aa42ab77313",
   "metadata": {},
   "source": [
    "### Görev 19: Günlere ve time göre total_bill değerlerinin toplamını, min, max ve ortalamasını bulunuz."
   ]
  },
  {
   "cell_type": "code",
   "execution_count": 71,
   "id": "20fa5819-2fac-40dc-9076-3c3cead11cd0",
   "metadata": {},
   "outputs": [
    {
     "data": {
      "text/html": [
       "<div>\n",
       "<style scoped>\n",
       "    .dataframe tbody tr th:only-of-type {\n",
       "        vertical-align: middle;\n",
       "    }\n",
       "\n",
       "    .dataframe tbody tr th {\n",
       "        vertical-align: top;\n",
       "    }\n",
       "\n",
       "    .dataframe thead tr th {\n",
       "        text-align: left;\n",
       "    }\n",
       "\n",
       "    .dataframe thead tr:last-of-type th {\n",
       "        text-align: right;\n",
       "    }\n",
       "</style>\n",
       "<table border=\"1\" class=\"dataframe\">\n",
       "  <thead>\n",
       "    <tr>\n",
       "      <th></th>\n",
       "      <th></th>\n",
       "      <th colspan=\"3\" halign=\"left\">total_bill</th>\n",
       "    </tr>\n",
       "    <tr>\n",
       "      <th></th>\n",
       "      <th></th>\n",
       "      <th>min</th>\n",
       "      <th>max</th>\n",
       "      <th>mean</th>\n",
       "    </tr>\n",
       "    <tr>\n",
       "      <th>day</th>\n",
       "      <th>time</th>\n",
       "      <th></th>\n",
       "      <th></th>\n",
       "      <th></th>\n",
       "    </tr>\n",
       "  </thead>\n",
       "  <tbody>\n",
       "    <tr>\n",
       "      <th rowspan=\"2\" valign=\"top\">Fri</th>\n",
       "      <th>Dinner</th>\n",
       "      <td>5.75</td>\n",
       "      <td>40.17</td>\n",
       "      <td>19.663333</td>\n",
       "    </tr>\n",
       "    <tr>\n",
       "      <th>Lunch</th>\n",
       "      <td>8.58</td>\n",
       "      <td>16.27</td>\n",
       "      <td>12.845714</td>\n",
       "    </tr>\n",
       "    <tr>\n",
       "      <th>Sat</th>\n",
       "      <th>Dinner</th>\n",
       "      <td>3.07</td>\n",
       "      <td>50.81</td>\n",
       "      <td>20.441379</td>\n",
       "    </tr>\n",
       "    <tr>\n",
       "      <th>Sun</th>\n",
       "      <th>Dinner</th>\n",
       "      <td>7.25</td>\n",
       "      <td>48.17</td>\n",
       "      <td>21.410000</td>\n",
       "    </tr>\n",
       "    <tr>\n",
       "      <th rowspan=\"2\" valign=\"top\">Thur</th>\n",
       "      <th>Dinner</th>\n",
       "      <td>18.78</td>\n",
       "      <td>18.78</td>\n",
       "      <td>18.780000</td>\n",
       "    </tr>\n",
       "    <tr>\n",
       "      <th>Lunch</th>\n",
       "      <td>7.51</td>\n",
       "      <td>43.11</td>\n",
       "      <td>17.664754</td>\n",
       "    </tr>\n",
       "  </tbody>\n",
       "</table>\n",
       "</div>"
      ],
      "text/plain": [
       "            total_bill                  \n",
       "                   min    max       mean\n",
       "day  time                               \n",
       "Fri  Dinner       5.75  40.17  19.663333\n",
       "     Lunch        8.58  16.27  12.845714\n",
       "Sat  Dinner       3.07  50.81  20.441379\n",
       "Sun  Dinner       7.25  48.17  21.410000\n",
       "Thur Dinner      18.78  18.78  18.780000\n",
       "     Lunch        7.51  43.11  17.664754"
      ]
     },
     "execution_count": 71,
     "metadata": {},
     "output_type": "execute_result"
    }
   ],
   "source": [
    "df.groupby([\"day\",\"time\"]).agg({\"total_bill\" : [\"min\",\"max\",\"mean\"]})"
   ]
  },
  {
   "cell_type": "markdown",
   "id": "dccac159-6a28-4574-a703-15e1a905ffd4",
   "metadata": {},
   "source": [
    "### Görev 20: Lunch zamanına ve kadın müşterilere ait total_bill ve tip değerlerinin day'e göre toplamını, min, max ve ortalamasını bulunuz."
   ]
  },
  {
   "cell_type": "code",
   "execution_count": 72,
   "id": "dac3c2ba-5e7f-4f0d-b69a-fdeb6846b7ba",
   "metadata": {},
   "outputs": [
    {
     "data": {
      "text/html": [
       "<div>\n",
       "<style scoped>\n",
       "    .dataframe tbody tr th:only-of-type {\n",
       "        vertical-align: middle;\n",
       "    }\n",
       "\n",
       "    .dataframe tbody tr th {\n",
       "        vertical-align: top;\n",
       "    }\n",
       "\n",
       "    .dataframe thead tr th {\n",
       "        text-align: left;\n",
       "    }\n",
       "\n",
       "    .dataframe thead tr:last-of-type th {\n",
       "        text-align: right;\n",
       "    }\n",
       "</style>\n",
       "<table border=\"1\" class=\"dataframe\">\n",
       "  <thead>\n",
       "    <tr>\n",
       "      <th></th>\n",
       "      <th></th>\n",
       "      <th colspan=\"3\" halign=\"left\">total_bill</th>\n",
       "    </tr>\n",
       "    <tr>\n",
       "      <th></th>\n",
       "      <th></th>\n",
       "      <th>min</th>\n",
       "      <th>max</th>\n",
       "      <th>mean</th>\n",
       "    </tr>\n",
       "    <tr>\n",
       "      <th>time</th>\n",
       "      <th>sex</th>\n",
       "      <th></th>\n",
       "      <th></th>\n",
       "      <th></th>\n",
       "    </tr>\n",
       "  </thead>\n",
       "  <tbody>\n",
       "    <tr>\n",
       "      <th rowspan=\"2\" valign=\"top\">Dinner</th>\n",
       "      <th>Female</th>\n",
       "      <td>3.07</td>\n",
       "      <td>44.30</td>\n",
       "      <td>19.213077</td>\n",
       "    </tr>\n",
       "    <tr>\n",
       "      <th>Male</th>\n",
       "      <td>7.25</td>\n",
       "      <td>50.81</td>\n",
       "      <td>21.461452</td>\n",
       "    </tr>\n",
       "    <tr>\n",
       "      <th rowspan=\"2\" valign=\"top\">Lunch</th>\n",
       "      <th>Female</th>\n",
       "      <td>8.35</td>\n",
       "      <td>43.11</td>\n",
       "      <td>16.339143</td>\n",
       "    </tr>\n",
       "    <tr>\n",
       "      <th>Male</th>\n",
       "      <td>7.51</td>\n",
       "      <td>41.19</td>\n",
       "      <td>18.048485</td>\n",
       "    </tr>\n",
       "  </tbody>\n",
       "</table>\n",
       "</div>"
      ],
      "text/plain": [
       "              total_bill                  \n",
       "                     min    max       mean\n",
       "time   sex                                \n",
       "Dinner Female       3.07  44.30  19.213077\n",
       "       Male         7.25  50.81  21.461452\n",
       "Lunch  Female       8.35  43.11  16.339143\n",
       "       Male         7.51  41.19  18.048485"
      ]
     },
     "execution_count": 72,
     "metadata": {},
     "output_type": "execute_result"
    }
   ],
   "source": [
    "df.groupby([\"time\",\"sex\"]).agg({\"total_bill\" : [\"min\",\"max\",\"mean\"]})"
   ]
  },
  {
   "cell_type": "markdown",
   "id": "31157689-3a76-4735-ab02-84d9a6a44da8",
   "metadata": {},
   "source": [
    "### Görev 21: size'i 3'ten küçük, total_bill'i 10'dan büyük olan siparişlerin ortalaması nedir? (loc kullanınız)"
   ]
  },
  {
   "cell_type": "code",
   "execution_count": 73,
   "id": "33f52691-f074-412e-bd44-fc0eb1b4bef8",
   "metadata": {},
   "outputs": [
    {
     "data": {
      "text/plain": [
       "17.18496503496505"
      ]
     },
     "execution_count": 73,
     "metadata": {},
     "output_type": "execute_result"
    }
   ],
   "source": [
    "df.loc[(df[\"size\"] < 3) & (df[\"total_bill\"] > 10) , \"total_bill\"].mean()"
   ]
  },
  {
   "cell_type": "markdown",
   "id": "f1741898-3caf-4c28-b814-11b2d707fd0c",
   "metadata": {},
   "source": [
    "### Görev 22: total_bill_tip_sum adında yeni bir değişken oluşturunuz. Her bir müşterinin ödediği totalbill ve tip in toplamını versin."
   ]
  },
  {
   "cell_type": "code",
   "execution_count": 74,
   "id": "c63440ea-98f1-4771-b014-33f3e9055045",
   "metadata": {},
   "outputs": [
    {
     "data": {
      "text/plain": [
       "0    18.00\n",
       "1    12.00\n",
       "2    24.51\n",
       "3    26.99\n",
       "4    28.20\n",
       "Name: total_bill_tip_sum, dtype: float64"
      ]
     },
     "execution_count": 74,
     "metadata": {},
     "output_type": "execute_result"
    }
   ],
   "source": [
    "df[\"total_bill_tip_sum\"] = df[\"total_bill\"] + df[\"tip\"]\n",
    "df[\"total_bill_tip_sum\"].head()"
   ]
  },
  {
   "cell_type": "markdown",
   "id": "d80e8d74-b4c1-45d6-9646-7ad63eb68fc5",
   "metadata": {},
   "source": [
    "### Görev 23: total_bill_tip_sum değişkenine göre büyükten küçüğe sıralayınız ve ilk 30 kişiyi yeni bir dataframe'e atayınız."
   ]
  },
  {
   "cell_type": "code",
   "execution_count": 77,
   "id": "46e6ad25-286b-4197-9adb-34bbdd1601a9",
   "metadata": {},
   "outputs": [],
   "source": [
    "new_df = df.sort_values(\"total_bill_tip_sum\", ascending = False)[:30]"
   ]
  },
  {
   "cell_type": "code",
   "execution_count": 78,
   "id": "b753dfe8-a9b2-40cc-9e5e-dd145eb691e7",
   "metadata": {},
   "outputs": [
    {
     "data": {
      "text/html": [
       "<div>\n",
       "<style scoped>\n",
       "    .dataframe tbody tr th:only-of-type {\n",
       "        vertical-align: middle;\n",
       "    }\n",
       "\n",
       "    .dataframe tbody tr th {\n",
       "        vertical-align: top;\n",
       "    }\n",
       "\n",
       "    .dataframe thead th {\n",
       "        text-align: right;\n",
       "    }\n",
       "</style>\n",
       "<table border=\"1\" class=\"dataframe\">\n",
       "  <thead>\n",
       "    <tr style=\"text-align: right;\">\n",
       "      <th></th>\n",
       "      <th>total_bill</th>\n",
       "      <th>tip</th>\n",
       "      <th>sex</th>\n",
       "      <th>smoker</th>\n",
       "      <th>day</th>\n",
       "      <th>time</th>\n",
       "      <th>size</th>\n",
       "      <th>total_bill_tip_sum</th>\n",
       "    </tr>\n",
       "  </thead>\n",
       "  <tbody>\n",
       "    <tr>\n",
       "      <th>170</th>\n",
       "      <td>50.81</td>\n",
       "      <td>10.00</td>\n",
       "      <td>Male</td>\n",
       "      <td>Yes</td>\n",
       "      <td>Sat</td>\n",
       "      <td>Dinner</td>\n",
       "      <td>3</td>\n",
       "      <td>60.81</td>\n",
       "    </tr>\n",
       "    <tr>\n",
       "      <th>212</th>\n",
       "      <td>48.33</td>\n",
       "      <td>9.00</td>\n",
       "      <td>Male</td>\n",
       "      <td>No</td>\n",
       "      <td>Sat</td>\n",
       "      <td>Dinner</td>\n",
       "      <td>4</td>\n",
       "      <td>57.33</td>\n",
       "    </tr>\n",
       "    <tr>\n",
       "      <th>59</th>\n",
       "      <td>48.27</td>\n",
       "      <td>6.73</td>\n",
       "      <td>Male</td>\n",
       "      <td>No</td>\n",
       "      <td>Sat</td>\n",
       "      <td>Dinner</td>\n",
       "      <td>4</td>\n",
       "      <td>55.00</td>\n",
       "    </tr>\n",
       "    <tr>\n",
       "      <th>156</th>\n",
       "      <td>48.17</td>\n",
       "      <td>5.00</td>\n",
       "      <td>Male</td>\n",
       "      <td>No</td>\n",
       "      <td>Sun</td>\n",
       "      <td>Dinner</td>\n",
       "      <td>6</td>\n",
       "      <td>53.17</td>\n",
       "    </tr>\n",
       "    <tr>\n",
       "      <th>182</th>\n",
       "      <td>45.35</td>\n",
       "      <td>3.50</td>\n",
       "      <td>Male</td>\n",
       "      <td>Yes</td>\n",
       "      <td>Sun</td>\n",
       "      <td>Dinner</td>\n",
       "      <td>3</td>\n",
       "      <td>48.85</td>\n",
       "    </tr>\n",
       "    <tr>\n",
       "      <th>197</th>\n",
       "      <td>43.11</td>\n",
       "      <td>5.00</td>\n",
       "      <td>Female</td>\n",
       "      <td>Yes</td>\n",
       "      <td>Thur</td>\n",
       "      <td>Lunch</td>\n",
       "      <td>4</td>\n",
       "      <td>48.11</td>\n",
       "    </tr>\n",
       "    <tr>\n",
       "      <th>23</th>\n",
       "      <td>39.42</td>\n",
       "      <td>7.58</td>\n",
       "      <td>Male</td>\n",
       "      <td>No</td>\n",
       "      <td>Sat</td>\n",
       "      <td>Dinner</td>\n",
       "      <td>4</td>\n",
       "      <td>47.00</td>\n",
       "    </tr>\n",
       "    <tr>\n",
       "      <th>102</th>\n",
       "      <td>44.30</td>\n",
       "      <td>2.50</td>\n",
       "      <td>Female</td>\n",
       "      <td>Yes</td>\n",
       "      <td>Sat</td>\n",
       "      <td>Dinner</td>\n",
       "      <td>3</td>\n",
       "      <td>46.80</td>\n",
       "    </tr>\n",
       "    <tr>\n",
       "      <th>142</th>\n",
       "      <td>41.19</td>\n",
       "      <td>5.00</td>\n",
       "      <td>Male</td>\n",
       "      <td>No</td>\n",
       "      <td>Thur</td>\n",
       "      <td>Lunch</td>\n",
       "      <td>5</td>\n",
       "      <td>46.19</td>\n",
       "    </tr>\n",
       "    <tr>\n",
       "      <th>95</th>\n",
       "      <td>40.17</td>\n",
       "      <td>4.73</td>\n",
       "      <td>Male</td>\n",
       "      <td>Yes</td>\n",
       "      <td>Fri</td>\n",
       "      <td>Dinner</td>\n",
       "      <td>4</td>\n",
       "      <td>44.90</td>\n",
       "    </tr>\n",
       "    <tr>\n",
       "      <th>184</th>\n",
       "      <td>40.55</td>\n",
       "      <td>3.00</td>\n",
       "      <td>Male</td>\n",
       "      <td>Yes</td>\n",
       "      <td>Sun</td>\n",
       "      <td>Dinner</td>\n",
       "      <td>2</td>\n",
       "      <td>43.55</td>\n",
       "    </tr>\n",
       "    <tr>\n",
       "      <th>112</th>\n",
       "      <td>38.07</td>\n",
       "      <td>4.00</td>\n",
       "      <td>Male</td>\n",
       "      <td>No</td>\n",
       "      <td>Sun</td>\n",
       "      <td>Dinner</td>\n",
       "      <td>3</td>\n",
       "      <td>42.07</td>\n",
       "    </tr>\n",
       "    <tr>\n",
       "      <th>207</th>\n",
       "      <td>38.73</td>\n",
       "      <td>3.00</td>\n",
       "      <td>Male</td>\n",
       "      <td>Yes</td>\n",
       "      <td>Sat</td>\n",
       "      <td>Dinner</td>\n",
       "      <td>4</td>\n",
       "      <td>41.73</td>\n",
       "    </tr>\n",
       "    <tr>\n",
       "      <th>56</th>\n",
       "      <td>38.01</td>\n",
       "      <td>3.00</td>\n",
       "      <td>Male</td>\n",
       "      <td>Yes</td>\n",
       "      <td>Sat</td>\n",
       "      <td>Dinner</td>\n",
       "      <td>4</td>\n",
       "      <td>41.01</td>\n",
       "    </tr>\n",
       "    <tr>\n",
       "      <th>141</th>\n",
       "      <td>34.30</td>\n",
       "      <td>6.70</td>\n",
       "      <td>Male</td>\n",
       "      <td>No</td>\n",
       "      <td>Thur</td>\n",
       "      <td>Lunch</td>\n",
       "      <td>6</td>\n",
       "      <td>41.00</td>\n",
       "    </tr>\n",
       "    <tr>\n",
       "      <th>238</th>\n",
       "      <td>35.83</td>\n",
       "      <td>4.67</td>\n",
       "      <td>Female</td>\n",
       "      <td>No</td>\n",
       "      <td>Sat</td>\n",
       "      <td>Dinner</td>\n",
       "      <td>3</td>\n",
       "      <td>40.50</td>\n",
       "    </tr>\n",
       "    <tr>\n",
       "      <th>11</th>\n",
       "      <td>35.26</td>\n",
       "      <td>5.00</td>\n",
       "      <td>Female</td>\n",
       "      <td>No</td>\n",
       "      <td>Sun</td>\n",
       "      <td>Dinner</td>\n",
       "      <td>4</td>\n",
       "      <td>40.26</td>\n",
       "    </tr>\n",
       "    <tr>\n",
       "      <th>52</th>\n",
       "      <td>34.81</td>\n",
       "      <td>5.20</td>\n",
       "      <td>Female</td>\n",
       "      <td>No</td>\n",
       "      <td>Sun</td>\n",
       "      <td>Dinner</td>\n",
       "      <td>4</td>\n",
       "      <td>40.01</td>\n",
       "    </tr>\n",
       "    <tr>\n",
       "      <th>85</th>\n",
       "      <td>34.83</td>\n",
       "      <td>5.17</td>\n",
       "      <td>Female</td>\n",
       "      <td>No</td>\n",
       "      <td>Thur</td>\n",
       "      <td>Lunch</td>\n",
       "      <td>4</td>\n",
       "      <td>40.00</td>\n",
       "    </tr>\n",
       "    <tr>\n",
       "      <th>47</th>\n",
       "      <td>32.40</td>\n",
       "      <td>6.00</td>\n",
       "      <td>Male</td>\n",
       "      <td>No</td>\n",
       "      <td>Sun</td>\n",
       "      <td>Dinner</td>\n",
       "      <td>4</td>\n",
       "      <td>38.40</td>\n",
       "    </tr>\n",
       "    <tr>\n",
       "      <th>180</th>\n",
       "      <td>34.65</td>\n",
       "      <td>3.68</td>\n",
       "      <td>Male</td>\n",
       "      <td>Yes</td>\n",
       "      <td>Sun</td>\n",
       "      <td>Dinner</td>\n",
       "      <td>4</td>\n",
       "      <td>38.33</td>\n",
       "    </tr>\n",
       "    <tr>\n",
       "      <th>179</th>\n",
       "      <td>34.63</td>\n",
       "      <td>3.55</td>\n",
       "      <td>Male</td>\n",
       "      <td>Yes</td>\n",
       "      <td>Sun</td>\n",
       "      <td>Dinner</td>\n",
       "      <td>2</td>\n",
       "      <td>38.18</td>\n",
       "    </tr>\n",
       "    <tr>\n",
       "      <th>83</th>\n",
       "      <td>32.68</td>\n",
       "      <td>5.00</td>\n",
       "      <td>Male</td>\n",
       "      <td>Yes</td>\n",
       "      <td>Thur</td>\n",
       "      <td>Lunch</td>\n",
       "      <td>2</td>\n",
       "      <td>37.68</td>\n",
       "    </tr>\n",
       "    <tr>\n",
       "      <th>39</th>\n",
       "      <td>31.27</td>\n",
       "      <td>5.00</td>\n",
       "      <td>Male</td>\n",
       "      <td>No</td>\n",
       "      <td>Sat</td>\n",
       "      <td>Dinner</td>\n",
       "      <td>3</td>\n",
       "      <td>36.27</td>\n",
       "    </tr>\n",
       "    <tr>\n",
       "      <th>167</th>\n",
       "      <td>31.71</td>\n",
       "      <td>4.50</td>\n",
       "      <td>Male</td>\n",
       "      <td>No</td>\n",
       "      <td>Sun</td>\n",
       "      <td>Dinner</td>\n",
       "      <td>4</td>\n",
       "      <td>36.21</td>\n",
       "    </tr>\n",
       "    <tr>\n",
       "      <th>175</th>\n",
       "      <td>32.90</td>\n",
       "      <td>3.11</td>\n",
       "      <td>Male</td>\n",
       "      <td>Yes</td>\n",
       "      <td>Sun</td>\n",
       "      <td>Dinner</td>\n",
       "      <td>2</td>\n",
       "      <td>36.01</td>\n",
       "    </tr>\n",
       "    <tr>\n",
       "      <th>44</th>\n",
       "      <td>30.40</td>\n",
       "      <td>5.60</td>\n",
       "      <td>Male</td>\n",
       "      <td>No</td>\n",
       "      <td>Sun</td>\n",
       "      <td>Dinner</td>\n",
       "      <td>4</td>\n",
       "      <td>36.00</td>\n",
       "    </tr>\n",
       "    <tr>\n",
       "      <th>173</th>\n",
       "      <td>31.85</td>\n",
       "      <td>3.18</td>\n",
       "      <td>Male</td>\n",
       "      <td>Yes</td>\n",
       "      <td>Sun</td>\n",
       "      <td>Dinner</td>\n",
       "      <td>2</td>\n",
       "      <td>35.03</td>\n",
       "    </tr>\n",
       "    <tr>\n",
       "      <th>116</th>\n",
       "      <td>29.93</td>\n",
       "      <td>5.07</td>\n",
       "      <td>Male</td>\n",
       "      <td>No</td>\n",
       "      <td>Sun</td>\n",
       "      <td>Dinner</td>\n",
       "      <td>4</td>\n",
       "      <td>35.00</td>\n",
       "    </tr>\n",
       "    <tr>\n",
       "      <th>155</th>\n",
       "      <td>29.85</td>\n",
       "      <td>5.14</td>\n",
       "      <td>Female</td>\n",
       "      <td>No</td>\n",
       "      <td>Sun</td>\n",
       "      <td>Dinner</td>\n",
       "      <td>5</td>\n",
       "      <td>34.99</td>\n",
       "    </tr>\n",
       "  </tbody>\n",
       "</table>\n",
       "</div>"
      ],
      "text/plain": [
       "     total_bill    tip     sex smoker   day    time  size  total_bill_tip_sum\n",
       "170       50.81  10.00    Male    Yes   Sat  Dinner     3               60.81\n",
       "212       48.33   9.00    Male     No   Sat  Dinner     4               57.33\n",
       "59        48.27   6.73    Male     No   Sat  Dinner     4               55.00\n",
       "156       48.17   5.00    Male     No   Sun  Dinner     6               53.17\n",
       "182       45.35   3.50    Male    Yes   Sun  Dinner     3               48.85\n",
       "197       43.11   5.00  Female    Yes  Thur   Lunch     4               48.11\n",
       "23        39.42   7.58    Male     No   Sat  Dinner     4               47.00\n",
       "102       44.30   2.50  Female    Yes   Sat  Dinner     3               46.80\n",
       "142       41.19   5.00    Male     No  Thur   Lunch     5               46.19\n",
       "95        40.17   4.73    Male    Yes   Fri  Dinner     4               44.90\n",
       "184       40.55   3.00    Male    Yes   Sun  Dinner     2               43.55\n",
       "112       38.07   4.00    Male     No   Sun  Dinner     3               42.07\n",
       "207       38.73   3.00    Male    Yes   Sat  Dinner     4               41.73\n",
       "56        38.01   3.00    Male    Yes   Sat  Dinner     4               41.01\n",
       "141       34.30   6.70    Male     No  Thur   Lunch     6               41.00\n",
       "238       35.83   4.67  Female     No   Sat  Dinner     3               40.50\n",
       "11        35.26   5.00  Female     No   Sun  Dinner     4               40.26\n",
       "52        34.81   5.20  Female     No   Sun  Dinner     4               40.01\n",
       "85        34.83   5.17  Female     No  Thur   Lunch     4               40.00\n",
       "47        32.40   6.00    Male     No   Sun  Dinner     4               38.40\n",
       "180       34.65   3.68    Male    Yes   Sun  Dinner     4               38.33\n",
       "179       34.63   3.55    Male    Yes   Sun  Dinner     2               38.18\n",
       "83        32.68   5.00    Male    Yes  Thur   Lunch     2               37.68\n",
       "39        31.27   5.00    Male     No   Sat  Dinner     3               36.27\n",
       "167       31.71   4.50    Male     No   Sun  Dinner     4               36.21\n",
       "175       32.90   3.11    Male    Yes   Sun  Dinner     2               36.01\n",
       "44        30.40   5.60    Male     No   Sun  Dinner     4               36.00\n",
       "173       31.85   3.18    Male    Yes   Sun  Dinner     2               35.03\n",
       "116       29.93   5.07    Male     No   Sun  Dinner     4               35.00\n",
       "155       29.85   5.14  Female     No   Sun  Dinner     5               34.99"
      ]
     },
     "execution_count": 78,
     "metadata": {},
     "output_type": "execute_result"
    }
   ],
   "source": [
    "new_df"
   ]
  },
  {
   "cell_type": "code",
   "execution_count": null,
   "id": "9241bdc5-1c97-4cb6-b62e-1f598fc0c0e2",
   "metadata": {},
   "outputs": [],
   "source": []
  }
 ],
 "metadata": {
  "kernelspec": {
   "display_name": "Python 3 (ipykernel)",
   "language": "python",
   "name": "python3"
  },
  "language_info": {
   "codemirror_mode": {
    "name": "ipython",
    "version": 3
   },
   "file_extension": ".py",
   "mimetype": "text/x-python",
   "name": "python",
   "nbconvert_exporter": "python",
   "pygments_lexer": "ipython3",
   "version": "3.9.13"
  }
 },
 "nbformat": 4,
 "nbformat_minor": 5
}
